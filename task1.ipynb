{
 "cells": [
  {
   "cell_type": "markdown",
   "metadata": {},
   "source": [
    "# TASK 1\n",
    "Riconoscimento review positiva o negativa"
   ]
  },
  {
   "cell_type": "code",
   "execution_count": 1,
   "metadata": {},
   "outputs": [],
   "source": [
    "from tensorflow.keras.initializers import Constant\n",
    "from tensorflow.keras.layers import Embedding, LSTM, Dense\n",
    "from tensorflow.keras import Sequential\n",
    "\n",
    "import tensorflow.keras as keras\n",
    "\n",
    "from libraries.dataset import Dataset\n",
    "\n",
    "import libraries.preprocessing_utils as prep_utils\n",
    "import tensorflow as tf\n",
    "import keras_tuner as kt\n",
    "\n",
    "import constants as const"
   ]
  },
  {
   "cell_type": "markdown",
   "metadata": {},
   "source": [
    "## Data retrieving"
   ]
  },
  {
   "cell_type": "code",
   "execution_count": 2,
   "metadata": {},
   "outputs": [
    {
     "name": "stdout",
     "output_type": "stream",
     "text": [
      "Reading ./data/balanced_review_sentiment_train.csv...\n",
      "File loaded in 0.49 minutes\n",
      "Reading ./data/balanced_review_sentiment_val.csv...\n",
      "File loaded in 0.01 minutes\n",
      "Reading ./data/balanced_review_sentiment_test.csv...\n",
      "File loaded in 0.0 minutes\n"
     ]
    }
   ],
   "source": [
    "review_data = Dataset('review', 'sentiment')\n",
    "review_data.split(['text'], 'sentiment', n_samples=500_000)"
   ]
  },
  {
   "cell_type": "markdown",
   "metadata": {},
   "source": [
    "## Models\n",
    "### Naive bayes"
   ]
  },
  {
   "cell_type": "code",
   "execution_count": 8,
   "metadata": {},
   "outputs": [],
   "source": [
    "# TODO"
   ]
  },
  {
   "cell_type": "markdown",
   "metadata": {},
   "source": [
    "## RNN - LSTM"
   ]
  },
  {
   "cell_type": "code",
   "execution_count": 3,
   "metadata": {},
   "outputs": [],
   "source": [
    "# preprocess text -> list[str]\n",
    "# fit tokenizer and tokenize\n",
    "tokenizer = prep_utils.get_tokenizer(review_data.train_data[0]['text'])\n",
    "\n",
    "train_tokens = prep_utils.get_set_tokens(\n",
    "    review_data.train_data[0]['text'], tokenizer, set='train', task='task1')\n",
    "\n",
    "test_tokens = prep_utils.get_set_tokens(\n",
    "    review_data.test_data[0]['text'], tokenizer, set='test', task='task1')\n",
    "\n",
    "val_tokens = prep_utils.get_set_tokens(\n",
    "    review_data.val_data[0]['text'], tokenizer, set='val', task='task1')"
   ]
  },
  {
   "cell_type": "code",
   "execution_count": 4,
   "metadata": {},
   "outputs": [
    {
     "name": "stdout",
     "output_type": "stream",
     "text": [
      "Loading pickled embedding matrix from ./data/embedding/task1_embedding_matrix.npy...\n",
      "...embedding matrix loaded\n"
     ]
    }
   ],
   "source": [
    "e_matrix = prep_utils.get_embedding_matrix(const.word_embedding_filepath, 'task1',\n",
    "                                            tokenizer, len(tokenizer.index_word)+1)"
   ]
  },
  {
   "cell_type": "code",
   "execution_count": 5,
   "metadata": {},
   "outputs": [],
   "source": [
    "word_vector_dim = 100\n",
    "\n",
    "vocab_size = len(tokenizer.word_index) +1\n",
    "max_length = len(max(train_tokens, key=len))\n",
    "\n",
    "embedding_layer = Embedding(vocab_size, word_vector_dim,\n",
    "                            embeddings_initializer=Constant(e_matrix), trainable=False)"
   ]
  },
  {
   "cell_type": "markdown",
   "metadata": {},
   "source": [
    "Let's define the functions that return the hypermodel with a specific hyperparameters search space.\n",
    "\n",
    "Hyperparameters:\n",
    "- number of units\n",
    "- dropout (yes/no) in order to prevent overfitting\n",
    "- learning rate"
   ]
  },
  {
   "cell_type": "markdown",
   "metadata": {},
   "source": [
    "NOTE:\n",
    "Cell and Hidden states are vectors which have a specific dimension (units parameters)."
   ]
  },
  {
   "cell_type": "code",
   "execution_count": 7,
   "metadata": {},
   "outputs": [],
   "source": [
    "def rnn_builder(hp):\n",
    "    # Define the hyperparams\n",
    "    dropout = hp.Choice(\"dropout\", [0.2, 0.5])\n",
    "    lstm_units = hp.Choice(\"units\", [15, 20, 50])\n",
    "    lr = hp.Choice(\"lr\", [0.01, 0.001] )\n",
    "\n",
    "    model = Sequential()    \n",
    "    model.add(embedding_layer)  # the embedding layer\n",
    "    model.add(LSTM(lstm_units, dropout=dropout))\n",
    "    # if dropout:\n",
    "    #     model.add(Dropout(0.2))\n",
    "    model.add(Dense(1, activation='sigmoid'))\n",
    "\n",
    "    opt = keras.optimizers.Adam(learning_rate=lr)\n",
    "    model.compile(optimizer=opt, loss='binary_crossentropy', metrics=['accuracy'])\n",
    "    \n",
    "    return model"
   ]
  },
  {
   "cell_type": "code",
   "execution_count": 8,
   "metadata": {},
   "outputs": [
    {
     "name": "stdout",
     "output_type": "stream",
     "text": [
      "Search space summary\n",
      "Default search space size: 3\n",
      "dropout (Choice)\n",
      "{'default': 0.2, 'conditions': [], 'values': [0.2, 0.5], 'ordered': True}\n",
      "units (Choice)\n",
      "{'default': 15, 'conditions': [], 'values': [15, 20, 50], 'ordered': True}\n",
      "lr (Choice)\n",
      "{'default': 0.01, 'conditions': [], 'values': [0.01, 0.001], 'ordered': True}\n"
     ]
    }
   ],
   "source": [
    "# The model-building function is called with different hyperparams values in different trial.\n",
    "# In each trial, the tuner would generate a new set of hyperparameter values.\n",
    "# The model is then fit and evaluated. The metrics are recorded.\n",
    "# The tuner progressively explores the space and finally finds a good set of hyperparams values.\n",
    "tuner = kt.RandomSearch(\n",
    "    rnn_builder,\n",
    "    objective = 'val_accuracy',\n",
    "    max_trials = 4,\n",
    "    directory = const.tuner_path,\n",
    "    project_name = \"task1_lstm\"\n",
    ")\n",
    "\n",
    "tuner.search_space_summary()"
   ]
  },
  {
   "cell_type": "code",
   "execution_count": 13,
   "metadata": {},
   "outputs": [
    {
     "name": "stdout",
     "output_type": "stream",
     "text": [
      "\n",
      "Search: Running Trial #3\n",
      "\n",
      "Hyperparameter    |Value             |Best Value So Far \n",
      "dropout           |0.2               |?                 \n",
      "units             |50                |?                 \n",
      "lr                |0.001             |?                 \n",
      "\n",
      "Epoch 1/1000\n"
     ]
    },
    {
     "ename": "KeyboardInterrupt",
     "evalue": "",
     "output_type": "error",
     "traceback": [
      "\u001b[1;31m---------------------------------------------------------------------------\u001b[0m",
      "\u001b[1;31mKeyboardInterrupt\u001b[0m                         Traceback (most recent call last)",
      "\u001b[1;32md:\\Alessandra Boccuto\\Documenti\\University\\UNIBO\\Materie\\Intelligenza artificiale\\progetto\\Yelp-Data-Analysis\\task1.ipynb Cell 15'\u001b[0m in \u001b[0;36m<module>\u001b[1;34m\u001b[0m\n\u001b[0;32m      <a href='vscode-notebook-cell:/d%3A/Alessandra%20Boccuto/Documenti/University/UNIBO/Materie/Intelligenza%20artificiale/progetto/Yelp-Data-Analysis/task1.ipynb#ch0000014?line=1'>2</a>\u001b[0m stop_early_cb \u001b[39m=\u001b[39m tf\u001b[39m.\u001b[39mkeras\u001b[39m.\u001b[39mcallbacks\u001b[39m.\u001b[39mEarlyStopping(monitor\u001b[39m=\u001b[39m\u001b[39m'\u001b[39m\u001b[39mval_accuracy\u001b[39m\u001b[39m'\u001b[39m, patience\u001b[39m=\u001b[39m\u001b[39m20\u001b[39m)\n\u001b[0;32m      <a href='vscode-notebook-cell:/d%3A/Alessandra%20Boccuto/Documenti/University/UNIBO/Materie/Intelligenza%20artificiale/progetto/Yelp-Data-Analysis/task1.ipynb#ch0000014?line=2'>3</a>\u001b[0m tensorboard_cb \u001b[39m=\u001b[39m tf\u001b[39m.\u001b[39mkeras\u001b[39m.\u001b[39mcallbacks\u001b[39m.\u001b[39mTensorBoard(\u001b[39mf\u001b[39m\u001b[39m\"\u001b[39m\u001b[39m{\u001b[39;00mconst\u001b[39m.\u001b[39mlogs_path\u001b[39m}\u001b[39;00m\u001b[39mtask1_lstm\u001b[39m\u001b[39m\"\u001b[39m, update_freq\u001b[39m=\u001b[39m\u001b[39m'\u001b[39m\u001b[39mepoch\u001b[39m\u001b[39m'\u001b[39m)\n\u001b[1;32m----> <a href='vscode-notebook-cell:/d%3A/Alessandra%20Boccuto/Documenti/University/UNIBO/Materie/Intelligenza%20artificiale/progetto/Yelp-Data-Analysis/task1.ipynb#ch0000014?line=4'>5</a>\u001b[0m tuner\u001b[39m.\u001b[39;49msearch(train_tokens, review_data\u001b[39m.\u001b[39;49mtrain_data[\u001b[39m1\u001b[39;49m],\n\u001b[0;32m      <a href='vscode-notebook-cell:/d%3A/Alessandra%20Boccuto/Documenti/University/UNIBO/Materie/Intelligenza%20artificiale/progetto/Yelp-Data-Analysis/task1.ipynb#ch0000014?line=5'>6</a>\u001b[0m              batch_size\u001b[39m=\u001b[39;49m\u001b[39m256\u001b[39;49m, epochs\u001b[39m=\u001b[39;49m\u001b[39m1000\u001b[39;49m,\n\u001b[0;32m      <a href='vscode-notebook-cell:/d%3A/Alessandra%20Boccuto/Documenti/University/UNIBO/Materie/Intelligenza%20artificiale/progetto/Yelp-Data-Analysis/task1.ipynb#ch0000014?line=6'>7</a>\u001b[0m              validation_data\u001b[39m=\u001b[39;49m(val_tokens, review_data\u001b[39m.\u001b[39;49mval_data[\u001b[39m1\u001b[39;49m]),\n\u001b[0;32m      <a href='vscode-notebook-cell:/d%3A/Alessandra%20Boccuto/Documenti/University/UNIBO/Materie/Intelligenza%20artificiale/progetto/Yelp-Data-Analysis/task1.ipynb#ch0000014?line=7'>8</a>\u001b[0m              callbacks\u001b[39m=\u001b[39;49m[stop_early_cb],\n\u001b[0;32m      <a href='vscode-notebook-cell:/d%3A/Alessandra%20Boccuto/Documenti/University/UNIBO/Materie/Intelligenza%20artificiale/progetto/Yelp-Data-Analysis/task1.ipynb#ch0000014?line=8'>9</a>\u001b[0m             \u001b[39m#  , tensorboard_cb],\u001b[39;49;00m\n\u001b[0;32m     <a href='vscode-notebook-cell:/d%3A/Alessandra%20Boccuto/Documenti/University/UNIBO/Materie/Intelligenza%20artificiale/progetto/Yelp-Data-Analysis/task1.ipynb#ch0000014?line=9'>10</a>\u001b[0m              verbose\u001b[39m=\u001b[39;49m\u001b[39m2\u001b[39;49m)\n",
      "File \u001b[1;32mD:\\Programmi\\miniconda3\\envs\\tf-gpu\\lib\\site-packages\\keras_tuner\\engine\\base_tuner.py:179\u001b[0m, in \u001b[0;36mBaseTuner.search\u001b[1;34m(self, *fit_args, **fit_kwargs)\u001b[0m\n\u001b[0;32m    <a href='file:///d%3A/Programmi/miniconda3/envs/tf-gpu/lib/site-packages/keras_tuner/engine/base_tuner.py?line=175'>176</a>\u001b[0m     \u001b[39mcontinue\u001b[39;00m\n\u001b[0;32m    <a href='file:///d%3A/Programmi/miniconda3/envs/tf-gpu/lib/site-packages/keras_tuner/engine/base_tuner.py?line=177'>178</a>\u001b[0m \u001b[39mself\u001b[39m\u001b[39m.\u001b[39mon_trial_begin(trial)\n\u001b[1;32m--> <a href='file:///d%3A/Programmi/miniconda3/envs/tf-gpu/lib/site-packages/keras_tuner/engine/base_tuner.py?line=178'>179</a>\u001b[0m results \u001b[39m=\u001b[39m \u001b[39mself\u001b[39m\u001b[39m.\u001b[39mrun_trial(trial, \u001b[39m*\u001b[39mfit_args, \u001b[39m*\u001b[39m\u001b[39m*\u001b[39mfit_kwargs)\n\u001b[0;32m    <a href='file:///d%3A/Programmi/miniconda3/envs/tf-gpu/lib/site-packages/keras_tuner/engine/base_tuner.py?line=179'>180</a>\u001b[0m \u001b[39m# `results` is None indicates user updated oracle in `run_trial()`.\u001b[39;00m\n\u001b[0;32m    <a href='file:///d%3A/Programmi/miniconda3/envs/tf-gpu/lib/site-packages/keras_tuner/engine/base_tuner.py?line=180'>181</a>\u001b[0m \u001b[39mif\u001b[39;00m results \u001b[39mis\u001b[39;00m \u001b[39mNone\u001b[39;00m:\n",
      "File \u001b[1;32mD:\\Programmi\\miniconda3\\envs\\tf-gpu\\lib\\site-packages\\keras_tuner\\engine\\tuner.py:304\u001b[0m, in \u001b[0;36mTuner.run_trial\u001b[1;34m(self, trial, *args, **kwargs)\u001b[0m\n\u001b[0;32m    <a href='file:///d%3A/Programmi/miniconda3/envs/tf-gpu/lib/site-packages/keras_tuner/engine/tuner.py?line=301'>302</a>\u001b[0m callbacks\u001b[39m.\u001b[39mappend(model_checkpoint)\n\u001b[0;32m    <a href='file:///d%3A/Programmi/miniconda3/envs/tf-gpu/lib/site-packages/keras_tuner/engine/tuner.py?line=302'>303</a>\u001b[0m copied_kwargs[\u001b[39m\"\u001b[39m\u001b[39mcallbacks\u001b[39m\u001b[39m\"\u001b[39m] \u001b[39m=\u001b[39m callbacks\n\u001b[1;32m--> <a href='file:///d%3A/Programmi/miniconda3/envs/tf-gpu/lib/site-packages/keras_tuner/engine/tuner.py?line=303'>304</a>\u001b[0m obj_value \u001b[39m=\u001b[39m \u001b[39mself\u001b[39m\u001b[39m.\u001b[39m_build_and_fit_model(trial, \u001b[39m*\u001b[39margs, \u001b[39m*\u001b[39m\u001b[39m*\u001b[39mcopied_kwargs)\n\u001b[0;32m    <a href='file:///d%3A/Programmi/miniconda3/envs/tf-gpu/lib/site-packages/keras_tuner/engine/tuner.py?line=305'>306</a>\u001b[0m \u001b[39m# objective left unspecified,\u001b[39;00m\n\u001b[0;32m    <a href='file:///d%3A/Programmi/miniconda3/envs/tf-gpu/lib/site-packages/keras_tuner/engine/tuner.py?line=306'>307</a>\u001b[0m \u001b[39m# and objective value is not a single float.\u001b[39;00m\n\u001b[0;32m    <a href='file:///d%3A/Programmi/miniconda3/envs/tf-gpu/lib/site-packages/keras_tuner/engine/tuner.py?line=307'>308</a>\u001b[0m \u001b[39mif\u001b[39;00m (\n\u001b[0;32m    <a href='file:///d%3A/Programmi/miniconda3/envs/tf-gpu/lib/site-packages/keras_tuner/engine/tuner.py?line=308'>309</a>\u001b[0m     \u001b[39mnot\u001b[39;00m \u001b[39misinstance\u001b[39m(obj_value, (\u001b[39mint\u001b[39m, \u001b[39mfloat\u001b[39m))\n\u001b[0;32m    <a href='file:///d%3A/Programmi/miniconda3/envs/tf-gpu/lib/site-packages/keras_tuner/engine/tuner.py?line=309'>310</a>\u001b[0m     \u001b[39mand\u001b[39;00m \u001b[39mself\u001b[39m\u001b[39m.\u001b[39moracle\u001b[39m.\u001b[39mobjective\u001b[39m.\u001b[39mname \u001b[39m==\u001b[39m \u001b[39m\"\u001b[39m\u001b[39mdefault_objective\u001b[39m\u001b[39m\"\u001b[39m\n\u001b[0;32m    <a href='file:///d%3A/Programmi/miniconda3/envs/tf-gpu/lib/site-packages/keras_tuner/engine/tuner.py?line=310'>311</a>\u001b[0m ):\n",
      "File \u001b[1;32mD:\\Programmi\\miniconda3\\envs\\tf-gpu\\lib\\site-packages\\keras_tuner\\engine\\tuner.py:234\u001b[0m, in \u001b[0;36mTuner._build_and_fit_model\u001b[1;34m(self, trial, *args, **kwargs)\u001b[0m\n\u001b[0;32m    <a href='file:///d%3A/Programmi/miniconda3/envs/tf-gpu/lib/site-packages/keras_tuner/engine/tuner.py?line=231'>232</a>\u001b[0m hp \u001b[39m=\u001b[39m trial\u001b[39m.\u001b[39mhyperparameters\n\u001b[0;32m    <a href='file:///d%3A/Programmi/miniconda3/envs/tf-gpu/lib/site-packages/keras_tuner/engine/tuner.py?line=232'>233</a>\u001b[0m model \u001b[39m=\u001b[39m \u001b[39mself\u001b[39m\u001b[39m.\u001b[39m_try_build(hp)\n\u001b[1;32m--> <a href='file:///d%3A/Programmi/miniconda3/envs/tf-gpu/lib/site-packages/keras_tuner/engine/tuner.py?line=233'>234</a>\u001b[0m \u001b[39mreturn\u001b[39;00m \u001b[39mself\u001b[39m\u001b[39m.\u001b[39mhypermodel\u001b[39m.\u001b[39mfit(hp, model, \u001b[39m*\u001b[39margs, \u001b[39m*\u001b[39m\u001b[39m*\u001b[39mkwargs)\n",
      "File \u001b[1;32mD:\\Programmi\\miniconda3\\envs\\tf-gpu\\lib\\site-packages\\keras_tuner\\engine\\hypermodel.py:137\u001b[0m, in \u001b[0;36mHyperModel.fit\u001b[1;34m(self, hp, model, *args, **kwargs)\u001b[0m\n\u001b[0;32m    <a href='file:///d%3A/Programmi/miniconda3/envs/tf-gpu/lib/site-packages/keras_tuner/engine/hypermodel.py?line=112'>113</a>\u001b[0m \u001b[39mdef\u001b[39;00m \u001b[39mfit\u001b[39m(\u001b[39mself\u001b[39m, hp, model, \u001b[39m*\u001b[39margs, \u001b[39m*\u001b[39m\u001b[39m*\u001b[39mkwargs):\n\u001b[0;32m    <a href='file:///d%3A/Programmi/miniconda3/envs/tf-gpu/lib/site-packages/keras_tuner/engine/hypermodel.py?line=113'>114</a>\u001b[0m     \u001b[39m\"\"\"Train the model.\u001b[39;00m\n\u001b[0;32m    <a href='file:///d%3A/Programmi/miniconda3/envs/tf-gpu/lib/site-packages/keras_tuner/engine/hypermodel.py?line=114'>115</a>\u001b[0m \n\u001b[0;32m    <a href='file:///d%3A/Programmi/miniconda3/envs/tf-gpu/lib/site-packages/keras_tuner/engine/hypermodel.py?line=115'>116</a>\u001b[0m \u001b[39m    Args:\u001b[39;00m\n\u001b[1;32m   (...)\u001b[0m\n\u001b[0;32m    <a href='file:///d%3A/Programmi/miniconda3/envs/tf-gpu/lib/site-packages/keras_tuner/engine/hypermodel.py?line=134'>135</a>\u001b[0m \u001b[39m        If return a float, it should be the `objective` value.\u001b[39;00m\n\u001b[0;32m    <a href='file:///d%3A/Programmi/miniconda3/envs/tf-gpu/lib/site-packages/keras_tuner/engine/hypermodel.py?line=135'>136</a>\u001b[0m \u001b[39m    \"\"\"\u001b[39;00m\n\u001b[1;32m--> <a href='file:///d%3A/Programmi/miniconda3/envs/tf-gpu/lib/site-packages/keras_tuner/engine/hypermodel.py?line=136'>137</a>\u001b[0m     \u001b[39mreturn\u001b[39;00m model\u001b[39m.\u001b[39mfit(\u001b[39m*\u001b[39margs, \u001b[39m*\u001b[39m\u001b[39m*\u001b[39mkwargs)\n",
      "File \u001b[1;32mD:\\Programmi\\miniconda3\\envs\\tf-gpu\\lib\\site-packages\\tensorflow\\python\\keras\\engine\\training.py:1198\u001b[0m, in \u001b[0;36mModel.fit\u001b[1;34m(self, x, y, batch_size, epochs, verbose, callbacks, validation_split, validation_data, shuffle, class_weight, sample_weight, initial_epoch, steps_per_epoch, validation_steps, validation_batch_size, validation_freq, max_queue_size, workers, use_multiprocessing)\u001b[0m\n\u001b[0;32m   <a href='file:///d%3A/Programmi/miniconda3/envs/tf-gpu/lib/site-packages/tensorflow/python/keras/engine/training.py?line=1195'>1196</a>\u001b[0m logs \u001b[39m=\u001b[39m tmp_logs  \u001b[39m# No error, now safe to assign to logs.\u001b[39;00m\n\u001b[0;32m   <a href='file:///d%3A/Programmi/miniconda3/envs/tf-gpu/lib/site-packages/tensorflow/python/keras/engine/training.py?line=1196'>1197</a>\u001b[0m end_step \u001b[39m=\u001b[39m step \u001b[39m+\u001b[39m data_handler\u001b[39m.\u001b[39mstep_increment\n\u001b[1;32m-> <a href='file:///d%3A/Programmi/miniconda3/envs/tf-gpu/lib/site-packages/tensorflow/python/keras/engine/training.py?line=1197'>1198</a>\u001b[0m callbacks\u001b[39m.\u001b[39;49mon_train_batch_end(end_step, logs)\n\u001b[0;32m   <a href='file:///d%3A/Programmi/miniconda3/envs/tf-gpu/lib/site-packages/tensorflow/python/keras/engine/training.py?line=1198'>1199</a>\u001b[0m \u001b[39mif\u001b[39;00m \u001b[39mself\u001b[39m\u001b[39m.\u001b[39mstop_training:\n\u001b[0;32m   <a href='file:///d%3A/Programmi/miniconda3/envs/tf-gpu/lib/site-packages/tensorflow/python/keras/engine/training.py?line=1199'>1200</a>\u001b[0m   \u001b[39mbreak\u001b[39;00m\n",
      "File \u001b[1;32mD:\\Programmi\\miniconda3\\envs\\tf-gpu\\lib\\site-packages\\tensorflow\\python\\keras\\callbacks.py:456\u001b[0m, in \u001b[0;36mCallbackList.on_train_batch_end\u001b[1;34m(self, batch, logs)\u001b[0m\n\u001b[0;32m    <a href='file:///d%3A/Programmi/miniconda3/envs/tf-gpu/lib/site-packages/tensorflow/python/keras/callbacks.py?line=448'>449</a>\u001b[0m \u001b[39m\"\"\"Calls the `on_train_batch_end` methods of its callbacks.\u001b[39;00m\n\u001b[0;32m    <a href='file:///d%3A/Programmi/miniconda3/envs/tf-gpu/lib/site-packages/tensorflow/python/keras/callbacks.py?line=449'>450</a>\u001b[0m \n\u001b[0;32m    <a href='file:///d%3A/Programmi/miniconda3/envs/tf-gpu/lib/site-packages/tensorflow/python/keras/callbacks.py?line=450'>451</a>\u001b[0m \u001b[39mArgs:\u001b[39;00m\n\u001b[0;32m    <a href='file:///d%3A/Programmi/miniconda3/envs/tf-gpu/lib/site-packages/tensorflow/python/keras/callbacks.py?line=451'>452</a>\u001b[0m \u001b[39m    batch: Integer, index of batch within the current epoch.\u001b[39;00m\n\u001b[0;32m    <a href='file:///d%3A/Programmi/miniconda3/envs/tf-gpu/lib/site-packages/tensorflow/python/keras/callbacks.py?line=452'>453</a>\u001b[0m \u001b[39m    logs: Dict. Aggregated metric results up until this batch.\u001b[39;00m\n\u001b[0;32m    <a href='file:///d%3A/Programmi/miniconda3/envs/tf-gpu/lib/site-packages/tensorflow/python/keras/callbacks.py?line=453'>454</a>\u001b[0m \u001b[39m\"\"\"\u001b[39;00m\n\u001b[0;32m    <a href='file:///d%3A/Programmi/miniconda3/envs/tf-gpu/lib/site-packages/tensorflow/python/keras/callbacks.py?line=454'>455</a>\u001b[0m \u001b[39mif\u001b[39;00m \u001b[39mself\u001b[39m\u001b[39m.\u001b[39m_should_call_train_batch_hooks:\n\u001b[1;32m--> <a href='file:///d%3A/Programmi/miniconda3/envs/tf-gpu/lib/site-packages/tensorflow/python/keras/callbacks.py?line=455'>456</a>\u001b[0m   \u001b[39mself\u001b[39;49m\u001b[39m.\u001b[39;49m_call_batch_hook(ModeKeys\u001b[39m.\u001b[39;49mTRAIN, \u001b[39m'\u001b[39;49m\u001b[39mend\u001b[39;49m\u001b[39m'\u001b[39;49m, batch, logs\u001b[39m=\u001b[39;49mlogs)\n",
      "File \u001b[1;32mD:\\Programmi\\miniconda3\\envs\\tf-gpu\\lib\\site-packages\\tensorflow\\python\\keras\\callbacks.py:316\u001b[0m, in \u001b[0;36mCallbackList._call_batch_hook\u001b[1;34m(self, mode, hook, batch, logs)\u001b[0m\n\u001b[0;32m    <a href='file:///d%3A/Programmi/miniconda3/envs/tf-gpu/lib/site-packages/tensorflow/python/keras/callbacks.py?line=313'>314</a>\u001b[0m   \u001b[39mself\u001b[39m\u001b[39m.\u001b[39m_call_batch_begin_hook(mode, batch, logs)\n\u001b[0;32m    <a href='file:///d%3A/Programmi/miniconda3/envs/tf-gpu/lib/site-packages/tensorflow/python/keras/callbacks.py?line=314'>315</a>\u001b[0m \u001b[39melif\u001b[39;00m hook \u001b[39m==\u001b[39m \u001b[39m'\u001b[39m\u001b[39mend\u001b[39m\u001b[39m'\u001b[39m:\n\u001b[1;32m--> <a href='file:///d%3A/Programmi/miniconda3/envs/tf-gpu/lib/site-packages/tensorflow/python/keras/callbacks.py?line=315'>316</a>\u001b[0m   \u001b[39mself\u001b[39;49m\u001b[39m.\u001b[39;49m_call_batch_end_hook(mode, batch, logs)\n\u001b[0;32m    <a href='file:///d%3A/Programmi/miniconda3/envs/tf-gpu/lib/site-packages/tensorflow/python/keras/callbacks.py?line=316'>317</a>\u001b[0m \u001b[39melse\u001b[39;00m:\n\u001b[0;32m    <a href='file:///d%3A/Programmi/miniconda3/envs/tf-gpu/lib/site-packages/tensorflow/python/keras/callbacks.py?line=317'>318</a>\u001b[0m   \u001b[39mraise\u001b[39;00m \u001b[39mValueError\u001b[39;00m(\u001b[39m'\u001b[39m\u001b[39mUnrecognized hook: \u001b[39m\u001b[39m{}\u001b[39;00m\u001b[39m'\u001b[39m\u001b[39m.\u001b[39mformat(hook))\n",
      "File \u001b[1;32mD:\\Programmi\\miniconda3\\envs\\tf-gpu\\lib\\site-packages\\tensorflow\\python\\keras\\callbacks.py:336\u001b[0m, in \u001b[0;36mCallbackList._call_batch_end_hook\u001b[1;34m(self, mode, batch, logs)\u001b[0m\n\u001b[0;32m    <a href='file:///d%3A/Programmi/miniconda3/envs/tf-gpu/lib/site-packages/tensorflow/python/keras/callbacks.py?line=332'>333</a>\u001b[0m   batch_time \u001b[39m=\u001b[39m time\u001b[39m.\u001b[39mtime() \u001b[39m-\u001b[39m \u001b[39mself\u001b[39m\u001b[39m.\u001b[39m_batch_start_time\n\u001b[0;32m    <a href='file:///d%3A/Programmi/miniconda3/envs/tf-gpu/lib/site-packages/tensorflow/python/keras/callbacks.py?line=333'>334</a>\u001b[0m   \u001b[39mself\u001b[39m\u001b[39m.\u001b[39m_batch_times\u001b[39m.\u001b[39mappend(batch_time)\n\u001b[1;32m--> <a href='file:///d%3A/Programmi/miniconda3/envs/tf-gpu/lib/site-packages/tensorflow/python/keras/callbacks.py?line=335'>336</a>\u001b[0m \u001b[39mself\u001b[39;49m\u001b[39m.\u001b[39;49m_call_batch_hook_helper(hook_name, batch, logs)\n\u001b[0;32m    <a href='file:///d%3A/Programmi/miniconda3/envs/tf-gpu/lib/site-packages/tensorflow/python/keras/callbacks.py?line=337'>338</a>\u001b[0m \u001b[39mif\u001b[39;00m \u001b[39mlen\u001b[39m(\u001b[39mself\u001b[39m\u001b[39m.\u001b[39m_batch_times) \u001b[39m>\u001b[39m\u001b[39m=\u001b[39m \u001b[39mself\u001b[39m\u001b[39m.\u001b[39m_num_batches_for_timing_check:\n\u001b[0;32m    <a href='file:///d%3A/Programmi/miniconda3/envs/tf-gpu/lib/site-packages/tensorflow/python/keras/callbacks.py?line=338'>339</a>\u001b[0m   end_hook_name \u001b[39m=\u001b[39m hook_name\n",
      "File \u001b[1;32mD:\\Programmi\\miniconda3\\envs\\tf-gpu\\lib\\site-packages\\tensorflow\\python\\keras\\callbacks.py:371\u001b[0m, in \u001b[0;36mCallbackList._call_batch_hook_helper\u001b[1;34m(self, hook_name, batch, logs)\u001b[0m\n\u001b[0;32m    <a href='file:///d%3A/Programmi/miniconda3/envs/tf-gpu/lib/site-packages/tensorflow/python/keras/callbacks.py?line=367'>368</a>\u001b[0m \u001b[39mif\u001b[39;00m \u001b[39mself\u001b[39m\u001b[39m.\u001b[39m_check_timing:\n\u001b[0;32m    <a href='file:///d%3A/Programmi/miniconda3/envs/tf-gpu/lib/site-packages/tensorflow/python/keras/callbacks.py?line=368'>369</a>\u001b[0m   start_time \u001b[39m=\u001b[39m time\u001b[39m.\u001b[39mtime()\n\u001b[1;32m--> <a href='file:///d%3A/Programmi/miniconda3/envs/tf-gpu/lib/site-packages/tensorflow/python/keras/callbacks.py?line=370'>371</a>\u001b[0m logs \u001b[39m=\u001b[39m \u001b[39mself\u001b[39;49m\u001b[39m.\u001b[39;49m_process_logs(logs, is_batch_hook\u001b[39m=\u001b[39;49m\u001b[39mTrue\u001b[39;49;00m)\n\u001b[0;32m    <a href='file:///d%3A/Programmi/miniconda3/envs/tf-gpu/lib/site-packages/tensorflow/python/keras/callbacks.py?line=371'>372</a>\u001b[0m \u001b[39mfor\u001b[39;00m callback \u001b[39min\u001b[39;00m \u001b[39mself\u001b[39m\u001b[39m.\u001b[39mcallbacks:\n\u001b[0;32m    <a href='file:///d%3A/Programmi/miniconda3/envs/tf-gpu/lib/site-packages/tensorflow/python/keras/callbacks.py?line=372'>373</a>\u001b[0m   hook \u001b[39m=\u001b[39m \u001b[39mgetattr\u001b[39m(callback, hook_name)\n",
      "File \u001b[1;32mD:\\Programmi\\miniconda3\\envs\\tf-gpu\\lib\\site-packages\\tensorflow\\python\\keras\\callbacks.py:291\u001b[0m, in \u001b[0;36mCallbackList._process_logs\u001b[1;34m(self, logs, is_batch_hook)\u001b[0m\n\u001b[0;32m    <a href='file:///d%3A/Programmi/miniconda3/envs/tf-gpu/lib/site-packages/tensorflow/python/keras/callbacks.py?line=288'>289</a>\u001b[0m \u001b[39mif\u001b[39;00m is_batch_hook \u001b[39mand\u001b[39;00m \u001b[39mself\u001b[39m\u001b[39m.\u001b[39m_batch_hooks_support_tf_logs:\n\u001b[0;32m    <a href='file:///d%3A/Programmi/miniconda3/envs/tf-gpu/lib/site-packages/tensorflow/python/keras/callbacks.py?line=289'>290</a>\u001b[0m   \u001b[39mreturn\u001b[39;00m logs\n\u001b[1;32m--> <a href='file:///d%3A/Programmi/miniconda3/envs/tf-gpu/lib/site-packages/tensorflow/python/keras/callbacks.py?line=290'>291</a>\u001b[0m \u001b[39mreturn\u001b[39;00m tf_utils\u001b[39m.\u001b[39;49msync_to_numpy_or_python_type(logs)\n",
      "File \u001b[1;32mD:\\Programmi\\miniconda3\\envs\\tf-gpu\\lib\\site-packages\\tensorflow\\python\\keras\\utils\\tf_utils.py:529\u001b[0m, in \u001b[0;36msync_to_numpy_or_python_type\u001b[1;34m(tensors)\u001b[0m\n\u001b[0;32m    <a href='file:///d%3A/Programmi/miniconda3/envs/tf-gpu/lib/site-packages/tensorflow/python/keras/utils/tf_utils.py?line=525'>526</a>\u001b[0m     \u001b[39mreturn\u001b[39;00m x\u001b[39m.\u001b[39mitem() \u001b[39mif\u001b[39;00m np\u001b[39m.\u001b[39mndim(x) \u001b[39m==\u001b[39m \u001b[39m0\u001b[39m \u001b[39melse\u001b[39;00m x\n\u001b[0;32m    <a href='file:///d%3A/Programmi/miniconda3/envs/tf-gpu/lib/site-packages/tensorflow/python/keras/utils/tf_utils.py?line=526'>527</a>\u001b[0m   \u001b[39mreturn\u001b[39;00m t  \u001b[39m# Don't turn ragged or sparse tensors to NumPy.\u001b[39;00m\n\u001b[1;32m--> <a href='file:///d%3A/Programmi/miniconda3/envs/tf-gpu/lib/site-packages/tensorflow/python/keras/utils/tf_utils.py?line=528'>529</a>\u001b[0m \u001b[39mreturn\u001b[39;00m nest\u001b[39m.\u001b[39;49mmap_structure(_to_single_numpy_or_python_type, tensors)\n",
      "File \u001b[1;32mD:\\Programmi\\miniconda3\\envs\\tf-gpu\\lib\\site-packages\\tensorflow\\python\\util\\nest.py:869\u001b[0m, in \u001b[0;36mmap_structure\u001b[1;34m(func, *structure, **kwargs)\u001b[0m\n\u001b[0;32m    <a href='file:///d%3A/Programmi/miniconda3/envs/tf-gpu/lib/site-packages/tensorflow/python/util/nest.py?line=864'>865</a>\u001b[0m flat_structure \u001b[39m=\u001b[39m (flatten(s, expand_composites) \u001b[39mfor\u001b[39;00m s \u001b[39min\u001b[39;00m structure)\n\u001b[0;32m    <a href='file:///d%3A/Programmi/miniconda3/envs/tf-gpu/lib/site-packages/tensorflow/python/util/nest.py?line=865'>866</a>\u001b[0m entries \u001b[39m=\u001b[39m \u001b[39mzip\u001b[39m(\u001b[39m*\u001b[39mflat_structure)\n\u001b[0;32m    <a href='file:///d%3A/Programmi/miniconda3/envs/tf-gpu/lib/site-packages/tensorflow/python/util/nest.py?line=867'>868</a>\u001b[0m \u001b[39mreturn\u001b[39;00m pack_sequence_as(\n\u001b[1;32m--> <a href='file:///d%3A/Programmi/miniconda3/envs/tf-gpu/lib/site-packages/tensorflow/python/util/nest.py?line=868'>869</a>\u001b[0m     structure[\u001b[39m0\u001b[39m], [func(\u001b[39m*\u001b[39mx) \u001b[39mfor\u001b[39;00m x \u001b[39min\u001b[39;00m entries],\n\u001b[0;32m    <a href='file:///d%3A/Programmi/miniconda3/envs/tf-gpu/lib/site-packages/tensorflow/python/util/nest.py?line=869'>870</a>\u001b[0m     expand_composites\u001b[39m=\u001b[39mexpand_composites)\n",
      "File \u001b[1;32mD:\\Programmi\\miniconda3\\envs\\tf-gpu\\lib\\site-packages\\tensorflow\\python\\util\\nest.py:869\u001b[0m, in \u001b[0;36m<listcomp>\u001b[1;34m(.0)\u001b[0m\n\u001b[0;32m    <a href='file:///d%3A/Programmi/miniconda3/envs/tf-gpu/lib/site-packages/tensorflow/python/util/nest.py?line=864'>865</a>\u001b[0m flat_structure \u001b[39m=\u001b[39m (flatten(s, expand_composites) \u001b[39mfor\u001b[39;00m s \u001b[39min\u001b[39;00m structure)\n\u001b[0;32m    <a href='file:///d%3A/Programmi/miniconda3/envs/tf-gpu/lib/site-packages/tensorflow/python/util/nest.py?line=865'>866</a>\u001b[0m entries \u001b[39m=\u001b[39m \u001b[39mzip\u001b[39m(\u001b[39m*\u001b[39mflat_structure)\n\u001b[0;32m    <a href='file:///d%3A/Programmi/miniconda3/envs/tf-gpu/lib/site-packages/tensorflow/python/util/nest.py?line=867'>868</a>\u001b[0m \u001b[39mreturn\u001b[39;00m pack_sequence_as(\n\u001b[1;32m--> <a href='file:///d%3A/Programmi/miniconda3/envs/tf-gpu/lib/site-packages/tensorflow/python/util/nest.py?line=868'>869</a>\u001b[0m     structure[\u001b[39m0\u001b[39m], [func(\u001b[39m*\u001b[39;49mx) \u001b[39mfor\u001b[39;00m x \u001b[39min\u001b[39;00m entries],\n\u001b[0;32m    <a href='file:///d%3A/Programmi/miniconda3/envs/tf-gpu/lib/site-packages/tensorflow/python/util/nest.py?line=869'>870</a>\u001b[0m     expand_composites\u001b[39m=\u001b[39mexpand_composites)\n",
      "File \u001b[1;32mD:\\Programmi\\miniconda3\\envs\\tf-gpu\\lib\\site-packages\\tensorflow\\python\\keras\\utils\\tf_utils.py:525\u001b[0m, in \u001b[0;36msync_to_numpy_or_python_type.<locals>._to_single_numpy_or_python_type\u001b[1;34m(t)\u001b[0m\n\u001b[0;32m    <a href='file:///d%3A/Programmi/miniconda3/envs/tf-gpu/lib/site-packages/tensorflow/python/keras/utils/tf_utils.py?line=522'>523</a>\u001b[0m \u001b[39mdef\u001b[39;00m \u001b[39m_to_single_numpy_or_python_type\u001b[39m(t):\n\u001b[0;32m    <a href='file:///d%3A/Programmi/miniconda3/envs/tf-gpu/lib/site-packages/tensorflow/python/keras/utils/tf_utils.py?line=523'>524</a>\u001b[0m   \u001b[39mif\u001b[39;00m \u001b[39misinstance\u001b[39m(t, ops\u001b[39m.\u001b[39mTensor):\n\u001b[1;32m--> <a href='file:///d%3A/Programmi/miniconda3/envs/tf-gpu/lib/site-packages/tensorflow/python/keras/utils/tf_utils.py?line=524'>525</a>\u001b[0m     x \u001b[39m=\u001b[39m t\u001b[39m.\u001b[39;49mnumpy()\n\u001b[0;32m    <a href='file:///d%3A/Programmi/miniconda3/envs/tf-gpu/lib/site-packages/tensorflow/python/keras/utils/tf_utils.py?line=525'>526</a>\u001b[0m     \u001b[39mreturn\u001b[39;00m x\u001b[39m.\u001b[39mitem() \u001b[39mif\u001b[39;00m np\u001b[39m.\u001b[39mndim(x) \u001b[39m==\u001b[39m \u001b[39m0\u001b[39m \u001b[39melse\u001b[39;00m x\n\u001b[0;32m    <a href='file:///d%3A/Programmi/miniconda3/envs/tf-gpu/lib/site-packages/tensorflow/python/keras/utils/tf_utils.py?line=526'>527</a>\u001b[0m   \u001b[39mreturn\u001b[39;00m t\n",
      "File \u001b[1;32mD:\\Programmi\\miniconda3\\envs\\tf-gpu\\lib\\site-packages\\tensorflow\\python\\framework\\ops.py:1094\u001b[0m, in \u001b[0;36m_EagerTensorBase.numpy\u001b[1;34m(self)\u001b[0m\n\u001b[0;32m   <a href='file:///d%3A/Programmi/miniconda3/envs/tf-gpu/lib/site-packages/tensorflow/python/framework/ops.py?line=1070'>1071</a>\u001b[0m \u001b[39m\"\"\"Copy of the contents of this Tensor into a NumPy array or scalar.\u001b[39;00m\n\u001b[0;32m   <a href='file:///d%3A/Programmi/miniconda3/envs/tf-gpu/lib/site-packages/tensorflow/python/framework/ops.py?line=1071'>1072</a>\u001b[0m \n\u001b[0;32m   <a href='file:///d%3A/Programmi/miniconda3/envs/tf-gpu/lib/site-packages/tensorflow/python/framework/ops.py?line=1072'>1073</a>\u001b[0m \u001b[39mUnlike NumPy arrays, Tensors are immutable, so this method has to copy\u001b[39;00m\n\u001b[1;32m   (...)\u001b[0m\n\u001b[0;32m   <a href='file:///d%3A/Programmi/miniconda3/envs/tf-gpu/lib/site-packages/tensorflow/python/framework/ops.py?line=1090'>1091</a>\u001b[0m \u001b[39m    NumPy dtype.\u001b[39;00m\n\u001b[0;32m   <a href='file:///d%3A/Programmi/miniconda3/envs/tf-gpu/lib/site-packages/tensorflow/python/framework/ops.py?line=1091'>1092</a>\u001b[0m \u001b[39m\"\"\"\u001b[39;00m\n\u001b[0;32m   <a href='file:///d%3A/Programmi/miniconda3/envs/tf-gpu/lib/site-packages/tensorflow/python/framework/ops.py?line=1092'>1093</a>\u001b[0m \u001b[39m# TODO(slebedev): Consider avoiding a copy for non-CPU or remote tensors.\u001b[39;00m\n\u001b[1;32m-> <a href='file:///d%3A/Programmi/miniconda3/envs/tf-gpu/lib/site-packages/tensorflow/python/framework/ops.py?line=1093'>1094</a>\u001b[0m maybe_arr \u001b[39m=\u001b[39m \u001b[39mself\u001b[39;49m\u001b[39m.\u001b[39;49m_numpy()  \u001b[39m# pylint: disable=protected-access\u001b[39;00m\n\u001b[0;32m   <a href='file:///d%3A/Programmi/miniconda3/envs/tf-gpu/lib/site-packages/tensorflow/python/framework/ops.py?line=1094'>1095</a>\u001b[0m \u001b[39mreturn\u001b[39;00m maybe_arr\u001b[39m.\u001b[39mcopy() \u001b[39mif\u001b[39;00m \u001b[39misinstance\u001b[39m(maybe_arr, np\u001b[39m.\u001b[39mndarray) \u001b[39melse\u001b[39;00m maybe_arr\n",
      "File \u001b[1;32mD:\\Programmi\\miniconda3\\envs\\tf-gpu\\lib\\site-packages\\tensorflow\\python\\framework\\ops.py:1060\u001b[0m, in \u001b[0;36m_EagerTensorBase._numpy\u001b[1;34m(self)\u001b[0m\n\u001b[0;32m   <a href='file:///d%3A/Programmi/miniconda3/envs/tf-gpu/lib/site-packages/tensorflow/python/framework/ops.py?line=1057'>1058</a>\u001b[0m \u001b[39mdef\u001b[39;00m \u001b[39m_numpy\u001b[39m(\u001b[39mself\u001b[39m):\n\u001b[0;32m   <a href='file:///d%3A/Programmi/miniconda3/envs/tf-gpu/lib/site-packages/tensorflow/python/framework/ops.py?line=1058'>1059</a>\u001b[0m   \u001b[39mtry\u001b[39;00m:\n\u001b[1;32m-> <a href='file:///d%3A/Programmi/miniconda3/envs/tf-gpu/lib/site-packages/tensorflow/python/framework/ops.py?line=1059'>1060</a>\u001b[0m     \u001b[39mreturn\u001b[39;00m \u001b[39mself\u001b[39;49m\u001b[39m.\u001b[39;49m_numpy_internal()\n\u001b[0;32m   <a href='file:///d%3A/Programmi/miniconda3/envs/tf-gpu/lib/site-packages/tensorflow/python/framework/ops.py?line=1060'>1061</a>\u001b[0m   \u001b[39mexcept\u001b[39;00m core\u001b[39m.\u001b[39m_NotOkStatusException \u001b[39mas\u001b[39;00m e:  \u001b[39m# pylint: disable=protected-access\u001b[39;00m\n\u001b[0;32m   <a href='file:///d%3A/Programmi/miniconda3/envs/tf-gpu/lib/site-packages/tensorflow/python/framework/ops.py?line=1061'>1062</a>\u001b[0m     six\u001b[39m.\u001b[39mraise_from(core\u001b[39m.\u001b[39m_status_to_exception(e\u001b[39m.\u001b[39mcode, e\u001b[39m.\u001b[39mmessage), \u001b[39mNone\u001b[39;00m)\n",
      "\u001b[1;31mKeyboardInterrupt\u001b[0m: "
     ]
    }
   ],
   "source": [
    "# define custom callbacks\n",
    "stop_early_cb = tf.keras.callbacks.EarlyStopping(monitor='val_accuracy', patience=20)\n",
    "tensorboard_cb = tf.keras.callbacks.TensorBoard(f\"{const.logs_path}task1_lstm\", update_freq='epoch')\n",
    "\n",
    "tuner.search(train_tokens, review_data.train_data[1],\n",
    "             batch_size=256, epochs=1000,\n",
    "             validation_data=(val_tokens, review_data.val_data[1]),\n",
    "             callbacks=[tensorboard_cb],\n",
    "             verbose=2)\n",
    "\n",
    "#   TODO RESOLVE THIS WARNING\n"
   ]
  },
  {
   "cell_type": "code",
   "execution_count": null,
   "metadata": {},
   "outputs": [],
   "source": [
    "# Get the optimal hyperparameters from the results\n",
    "best_hps=tuner.get_best_hyperparameters()[0]\n",
    "\n",
    "stop_early = tf.keras.callbacks.EarlyStopping(monitor='val_accuracy', patience=10)\n",
    "\n",
    "# Build model\n",
    "h_model = tuner.hypermodel.build(best_hps)\n",
    "\n",
    "# Train the hypertuned model\n",
    "h_model.fit(train_tokens[:5000], review_data.train_data[1][:5000], epochs=500, validation_data=(val_tokens[:2000], review_data.val_data[1][:2000]), callbacks=[stop_early])\n"
   ]
  },
  {
   "cell_type": "code",
   "execution_count": null,
   "metadata": {},
   "outputs": [],
   "source": [
    "best_model = tuner.get_best_models()[0]\n",
    "\n",
    "# tuner.results_summary()\n",
    "best_model.summary()"
   ]
  }
 ],
 "metadata": {
  "interpreter": {
   "hash": "fb20caab5ee8cc09ab8b75b23426de7ab409d2661b4ee85e5bcb1125eed550bf"
  },
  "kernelspec": {
   "display_name": "Python 3.9.10 ('tf-gpu')",
   "language": "python",
   "name": "python3"
  },
  "language_info": {
   "codemirror_mode": {
    "name": "ipython",
    "version": 3
   },
   "file_extension": ".py",
   "mimetype": "text/x-python",
   "name": "python",
   "nbconvert_exporter": "python",
   "pygments_lexer": "ipython3",
   "version": "3.9.10"
  },
  "orig_nbformat": 4
 },
 "nbformat": 4,
 "nbformat_minor": 2
}
