{
 "cells": [
  {
   "cell_type": "markdown",
   "metadata": {},
   "source": [
    "# TASK 1\n",
    "Riconoscimento review positiva o negativa"
   ]
  },
  {
   "cell_type": "code",
   "execution_count": 1,
   "metadata": {},
   "outputs": [],
   "source": [
    "from tensorflow.keras.initializers import Constant\n",
    "from tensorflow.keras.layers import Embedding, LSTM, Dense\n",
    "from tensorflow.keras import Sequential\n",
    "\n",
    "import tensorflow.keras as keras\n",
    "\n",
    "from libraries.dataset import Dataset\n",
    "\n",
    "import libraries.preprocessing_utils as prep_utils\n",
    "import tensorflow as tf\n",
    "import keras_tuner as kt\n",
    "\n",
    "import constants as const"
   ]
  },
  {
   "cell_type": "markdown",
   "metadata": {},
   "source": [
    "## Data retrieving"
   ]
  },
  {
   "cell_type": "code",
   "execution_count": 2,
   "metadata": {},
   "outputs": [
    {
     "name": "stdout",
     "output_type": "stream",
     "text": [
      "Reading ./data_100_000/balanced_review_sentiment_train.csv...\n",
      "File loaded in 0.03 minutes\n",
      "Reading ./data_100_000/balanced_review_sentiment_val.csv...\n",
      "File loaded in 0.0 minutes\n",
      "Reading ./data_100_000/balanced_review_sentiment_test.csv...\n",
      "File loaded in 0.0 minutes\n"
     ]
    }
   ],
   "source": [
    "review_data = Dataset('review', 'sentiment')\n",
    "#  50_000 for element\n",
    "review_data.split(['text'], 'sentiment', n_samples=50_000)"
   ]
  },
  {
   "cell_type": "markdown",
   "metadata": {},
   "source": [
    "## Models\n",
    "### Naive bayes"
   ]
  },
  {
   "cell_type": "code",
   "execution_count": 3,
   "metadata": {},
   "outputs": [],
   "source": [
    "# TODO"
   ]
  },
  {
   "cell_type": "markdown",
   "metadata": {},
   "source": [
    "## RNN - LSTM"
   ]
  },
  {
   "cell_type": "code",
   "execution_count": 4,
   "metadata": {},
   "outputs": [],
   "source": [
    "# preprocess text -> list[str]\n",
    "# fit tokenizer and tokenize\n",
    "tokenizer = prep_utils.get_tokenizer(review_data.train_data[0]['text'])\n",
    "\n",
    "train_tokens = prep_utils.get_set_tokens(\n",
    "    review_data.train_data[0]['text'], tokenizer, set='train', task='task1')\n",
    "\n",
    "test_tokens = prep_utils.get_set_tokens(\n",
    "    review_data.test_data[0]['text'], tokenizer, set='test', task='task1')\n",
    "\n",
    "val_tokens = prep_utils.get_set_tokens(\n",
    "    review_data.val_data[0]['text'], tokenizer, set='val', task='task1')"
   ]
  },
  {
   "cell_type": "code",
   "execution_count": 5,
   "metadata": {},
   "outputs": [
    {
     "name": "stdout",
     "output_type": "stream",
     "text": [
      "Loading pickled embedding matrix from ./data_100_000/embedding/task1_embedding_matrix.npy...\n",
      "...embedding matrix loaded\n"
     ]
    }
   ],
   "source": [
    "e_matrix = prep_utils.get_embedding_matrix(const.word_embedding_filepath, 'task1',\n",
    "                                            tokenizer, len(tokenizer.index_word)+1)"
   ]
  },
  {
   "cell_type": "code",
   "execution_count": 6,
   "metadata": {},
   "outputs": [],
   "source": [
    "word_vector_dim = 100\n",
    "\n",
    "vocab_size = len(tokenizer.word_index) +1\n",
    "max_length = len(max(train_tokens, key=len))\n",
    "\n",
    "embedding_layer = Embedding(vocab_size, word_vector_dim,\n",
    "                            embeddings_initializer=Constant(e_matrix), trainable=False)"
   ]
  },
  {
   "cell_type": "markdown",
   "metadata": {},
   "source": [
    "Let's define the functions that return the hypermodel with a specific hyperparameters search space.\n",
    "\n",
    "Hyperparameters:\n",
    "- number of units\n",
    "- dropout (yes/no) in order to prevent overfitting\n",
    "- learning rate"
   ]
  },
  {
   "cell_type": "markdown",
   "metadata": {},
   "source": [
    "NOTE:\n",
    "Cell and Hidden states are vectors which have a specific dimension (units parameters)."
   ]
  },
  {
   "cell_type": "code",
   "execution_count": 7,
   "metadata": {},
   "outputs": [],
   "source": [
    "def rnn_builder(hp):\n",
    "    # Define the hyperparams\n",
    "    dropout = hp.Choice(\"dropout\", [0.2, 0.5])\n",
    "    lstm_units = hp.Choice(\"units\", [15, 20, 50, 80])\n",
    "    lr = hp.Choice(\"lr\", [0.01, 0.001] )\n",
    "\n",
    "    model = Sequential()    \n",
    "    model.add(embedding_layer)  # the embedding layer\n",
    "    model.add(LSTM(lstm_units, dropout=dropout))\n",
    "    # if dropout:\n",
    "    #     model.add(Dropout(0.2))\n",
    "    model.add(Dense(1, activation='sigmoid'))\n",
    "\n",
    "    opt = keras.optimizers.Adam(learning_rate=lr)\n",
    "    model.compile(optimizer=opt, loss='binary_crossentropy', metrics=['accuracy'])\n",
    "    \n",
    "    return model"
   ]
  },
  {
   "cell_type": "code",
   "execution_count": 8,
   "metadata": {},
   "outputs": [
    {
     "name": "stdout",
     "output_type": "stream",
     "text": [
      "Search space summary\n",
      "Default search space size: 3\n",
      "dropout (Choice)\n",
      "{'default': 0.2, 'conditions': [], 'values': [0.2, 0.5], 'ordered': True}\n",
      "units (Choice)\n",
      "{'default': 50, 'conditions': [], 'values': [50, 20, 15], 'ordered': True}\n",
      "lr (Choice)\n",
      "{'default': 0.01, 'conditions': [], 'values': [0.01, 0.001], 'ordered': True}\n"
     ]
    }
   ],
   "source": [
    "# The model-building function is called with different hyperparams values in different trial.\n",
    "# In each trial, the tuner would generate a new set of hyperparameter values.\n",
    "# The model is then fit and evaluated. The metrics are recorded.\n",
    "# The tuner progressively explores the space and finally finds a good set of hyperparams values.\n",
    "tuner = kt.RandomSearch(\n",
    "    rnn_builder,\n",
    "    objective = 'val_accuracy',\n",
    "    max_trials = 10,\n",
    "    directory = const.tuner_path,\n",
    "    project_name = \"task1_lstm\"\n",
    ")\n",
    "\n",
    "tuner.search_space_summary()"
   ]
  },
  {
   "cell_type": "code",
   "execution_count": 9,
   "metadata": {},
   "outputs": [],
   "source": [
    "# define custom callbacks\n",
    "stop_early_cb = tf.keras.callbacks.EarlyStopping(monitor='val_accuracy', patience=5)\n",
    "tensorboard_cb = tf.keras.callbacks.TensorBoard(f\"{const.logs_path}task1_lstm\", update_freq='epoch')\n"
   ]
  },
  {
   "cell_type": "code",
   "execution_count": 10,
   "metadata": {},
   "outputs": [
    {
     "name": "stdout",
     "output_type": "stream",
     "text": [
      "WARNING:tensorflow:Callback method `on_train_batch_end` is slow compared to the batch time (batch time: 0.1054s vs `on_train_batch_end` time: 0.3600s). Check your callbacks.\n",
      "WARNING:tensorflow:Callback method `on_train_batch_end` is slow compared to the batch time (batch time: 0.0912s vs `on_train_batch_end` time: 0.8760s). Check your callbacks.\n",
      "WARNING:tensorflow:Callback method `on_train_batch_end` is slow compared to the batch time (batch time: 0.0812s vs `on_train_batch_end` time: 0.8176s). Check your callbacks.\n"
     ]
    },
    {
     "ename": "KeyboardInterrupt",
     "evalue": "",
     "output_type": "error",
     "traceback": [
      "\u001b[1;31m---------------------------------------------------------------------------\u001b[0m",
      "\u001b[1;31mKeyboardInterrupt\u001b[0m                         Traceback (most recent call last)",
      "\u001b[1;32md:\\Alessandra Boccuto\\Documenti\\University\\UNIBO\\Materie\\Intelligenza artificiale\\progetto\\Yelp-Data-Analysis\\task1.ipynb Cell 16'\u001b[0m in \u001b[0;36m<module>\u001b[1;34m\u001b[0m\n\u001b[1;32m----> <a href='vscode-notebook-cell:/d%3A/Alessandra%20Boccuto/Documenti/University/UNIBO/Materie/Intelligenza%20artificiale/progetto/Yelp-Data-Analysis/task1.ipynb#ch0000017?line=0'>1</a>\u001b[0m tuner\u001b[39m.\u001b[39;49msearch(train_tokens, review_data\u001b[39m.\u001b[39;49mtrain_data[\u001b[39m1\u001b[39;49m],\n\u001b[0;32m      <a href='vscode-notebook-cell:/d%3A/Alessandra%20Boccuto/Documenti/University/UNIBO/Materie/Intelligenza%20artificiale/progetto/Yelp-Data-Analysis/task1.ipynb#ch0000017?line=1'>2</a>\u001b[0m              batch_size\u001b[39m=\u001b[39;49m\u001b[39m128\u001b[39;49m, epochs\u001b[39m=\u001b[39;49m\u001b[39m1000\u001b[39;49m,\n\u001b[0;32m      <a href='vscode-notebook-cell:/d%3A/Alessandra%20Boccuto/Documenti/University/UNIBO/Materie/Intelligenza%20artificiale/progetto/Yelp-Data-Analysis/task1.ipynb#ch0000017?line=2'>3</a>\u001b[0m              validation_data\u001b[39m=\u001b[39;49m(val_tokens, review_data\u001b[39m.\u001b[39;49mval_data[\u001b[39m1\u001b[39;49m]),\n\u001b[0;32m      <a href='vscode-notebook-cell:/d%3A/Alessandra%20Boccuto/Documenti/University/UNIBO/Materie/Intelligenza%20artificiale/progetto/Yelp-Data-Analysis/task1.ipynb#ch0000017?line=3'>4</a>\u001b[0m              callbacks\u001b[39m=\u001b[39;49m[stop_early_cb, tensorboard_cb],\n\u001b[0;32m      <a href='vscode-notebook-cell:/d%3A/Alessandra%20Boccuto/Documenti/University/UNIBO/Materie/Intelligenza%20artificiale/progetto/Yelp-Data-Analysis/task1.ipynb#ch0000017?line=4'>5</a>\u001b[0m              verbose\u001b[39m=\u001b[39;49m\u001b[39m0\u001b[39;49m)\n",
      "File \u001b[1;32mD:\\Programmi\\miniconda3\\envs\\tf-gpu\\lib\\site-packages\\keras_tuner\\engine\\base_tuner.py:179\u001b[0m, in \u001b[0;36mBaseTuner.search\u001b[1;34m(self, *fit_args, **fit_kwargs)\u001b[0m\n\u001b[0;32m    <a href='file:///d%3A/Programmi/miniconda3/envs/tf-gpu/lib/site-packages/keras_tuner/engine/base_tuner.py?line=175'>176</a>\u001b[0m     \u001b[39mcontinue\u001b[39;00m\n\u001b[0;32m    <a href='file:///d%3A/Programmi/miniconda3/envs/tf-gpu/lib/site-packages/keras_tuner/engine/base_tuner.py?line=177'>178</a>\u001b[0m \u001b[39mself\u001b[39m\u001b[39m.\u001b[39mon_trial_begin(trial)\n\u001b[1;32m--> <a href='file:///d%3A/Programmi/miniconda3/envs/tf-gpu/lib/site-packages/keras_tuner/engine/base_tuner.py?line=178'>179</a>\u001b[0m results \u001b[39m=\u001b[39m \u001b[39mself\u001b[39m\u001b[39m.\u001b[39mrun_trial(trial, \u001b[39m*\u001b[39mfit_args, \u001b[39m*\u001b[39m\u001b[39m*\u001b[39mfit_kwargs)\n\u001b[0;32m    <a href='file:///d%3A/Programmi/miniconda3/envs/tf-gpu/lib/site-packages/keras_tuner/engine/base_tuner.py?line=179'>180</a>\u001b[0m \u001b[39m# `results` is None indicates user updated oracle in `run_trial()`.\u001b[39;00m\n\u001b[0;32m    <a href='file:///d%3A/Programmi/miniconda3/envs/tf-gpu/lib/site-packages/keras_tuner/engine/base_tuner.py?line=180'>181</a>\u001b[0m \u001b[39mif\u001b[39;00m results \u001b[39mis\u001b[39;00m \u001b[39mNone\u001b[39;00m:\n",
      "File \u001b[1;32mD:\\Programmi\\miniconda3\\envs\\tf-gpu\\lib\\site-packages\\keras_tuner\\engine\\tuner.py:304\u001b[0m, in \u001b[0;36mTuner.run_trial\u001b[1;34m(self, trial, *args, **kwargs)\u001b[0m\n\u001b[0;32m    <a href='file:///d%3A/Programmi/miniconda3/envs/tf-gpu/lib/site-packages/keras_tuner/engine/tuner.py?line=301'>302</a>\u001b[0m callbacks\u001b[39m.\u001b[39mappend(model_checkpoint)\n\u001b[0;32m    <a href='file:///d%3A/Programmi/miniconda3/envs/tf-gpu/lib/site-packages/keras_tuner/engine/tuner.py?line=302'>303</a>\u001b[0m copied_kwargs[\u001b[39m\"\u001b[39m\u001b[39mcallbacks\u001b[39m\u001b[39m\"\u001b[39m] \u001b[39m=\u001b[39m callbacks\n\u001b[1;32m--> <a href='file:///d%3A/Programmi/miniconda3/envs/tf-gpu/lib/site-packages/keras_tuner/engine/tuner.py?line=303'>304</a>\u001b[0m obj_value \u001b[39m=\u001b[39m \u001b[39mself\u001b[39m\u001b[39m.\u001b[39m_build_and_fit_model(trial, \u001b[39m*\u001b[39margs, \u001b[39m*\u001b[39m\u001b[39m*\u001b[39mcopied_kwargs)\n\u001b[0;32m    <a href='file:///d%3A/Programmi/miniconda3/envs/tf-gpu/lib/site-packages/keras_tuner/engine/tuner.py?line=305'>306</a>\u001b[0m \u001b[39m# objective left unspecified,\u001b[39;00m\n\u001b[0;32m    <a href='file:///d%3A/Programmi/miniconda3/envs/tf-gpu/lib/site-packages/keras_tuner/engine/tuner.py?line=306'>307</a>\u001b[0m \u001b[39m# and objective value is not a single float.\u001b[39;00m\n\u001b[0;32m    <a href='file:///d%3A/Programmi/miniconda3/envs/tf-gpu/lib/site-packages/keras_tuner/engine/tuner.py?line=307'>308</a>\u001b[0m \u001b[39mif\u001b[39;00m (\n\u001b[0;32m    <a href='file:///d%3A/Programmi/miniconda3/envs/tf-gpu/lib/site-packages/keras_tuner/engine/tuner.py?line=308'>309</a>\u001b[0m     \u001b[39mnot\u001b[39;00m \u001b[39misinstance\u001b[39m(obj_value, (\u001b[39mint\u001b[39m, \u001b[39mfloat\u001b[39m))\n\u001b[0;32m    <a href='file:///d%3A/Programmi/miniconda3/envs/tf-gpu/lib/site-packages/keras_tuner/engine/tuner.py?line=309'>310</a>\u001b[0m     \u001b[39mand\u001b[39;00m \u001b[39mself\u001b[39m\u001b[39m.\u001b[39moracle\u001b[39m.\u001b[39mobjective\u001b[39m.\u001b[39mname \u001b[39m==\u001b[39m \u001b[39m\"\u001b[39m\u001b[39mdefault_objective\u001b[39m\u001b[39m\"\u001b[39m\n\u001b[0;32m    <a href='file:///d%3A/Programmi/miniconda3/envs/tf-gpu/lib/site-packages/keras_tuner/engine/tuner.py?line=310'>311</a>\u001b[0m ):\n",
      "File \u001b[1;32mD:\\Programmi\\miniconda3\\envs\\tf-gpu\\lib\\site-packages\\keras_tuner\\engine\\tuner.py:234\u001b[0m, in \u001b[0;36mTuner._build_and_fit_model\u001b[1;34m(self, trial, *args, **kwargs)\u001b[0m\n\u001b[0;32m    <a href='file:///d%3A/Programmi/miniconda3/envs/tf-gpu/lib/site-packages/keras_tuner/engine/tuner.py?line=231'>232</a>\u001b[0m hp \u001b[39m=\u001b[39m trial\u001b[39m.\u001b[39mhyperparameters\n\u001b[0;32m    <a href='file:///d%3A/Programmi/miniconda3/envs/tf-gpu/lib/site-packages/keras_tuner/engine/tuner.py?line=232'>233</a>\u001b[0m model \u001b[39m=\u001b[39m \u001b[39mself\u001b[39m\u001b[39m.\u001b[39m_try_build(hp)\n\u001b[1;32m--> <a href='file:///d%3A/Programmi/miniconda3/envs/tf-gpu/lib/site-packages/keras_tuner/engine/tuner.py?line=233'>234</a>\u001b[0m \u001b[39mreturn\u001b[39;00m \u001b[39mself\u001b[39m\u001b[39m.\u001b[39mhypermodel\u001b[39m.\u001b[39mfit(hp, model, \u001b[39m*\u001b[39margs, \u001b[39m*\u001b[39m\u001b[39m*\u001b[39mkwargs)\n",
      "File \u001b[1;32mD:\\Programmi\\miniconda3\\envs\\tf-gpu\\lib\\site-packages\\keras_tuner\\engine\\hypermodel.py:137\u001b[0m, in \u001b[0;36mHyperModel.fit\u001b[1;34m(self, hp, model, *args, **kwargs)\u001b[0m\n\u001b[0;32m    <a href='file:///d%3A/Programmi/miniconda3/envs/tf-gpu/lib/site-packages/keras_tuner/engine/hypermodel.py?line=112'>113</a>\u001b[0m \u001b[39mdef\u001b[39;00m \u001b[39mfit\u001b[39m(\u001b[39mself\u001b[39m, hp, model, \u001b[39m*\u001b[39margs, \u001b[39m*\u001b[39m\u001b[39m*\u001b[39mkwargs):\n\u001b[0;32m    <a href='file:///d%3A/Programmi/miniconda3/envs/tf-gpu/lib/site-packages/keras_tuner/engine/hypermodel.py?line=113'>114</a>\u001b[0m     \u001b[39m\"\"\"Train the model.\u001b[39;00m\n\u001b[0;32m    <a href='file:///d%3A/Programmi/miniconda3/envs/tf-gpu/lib/site-packages/keras_tuner/engine/hypermodel.py?line=114'>115</a>\u001b[0m \n\u001b[0;32m    <a href='file:///d%3A/Programmi/miniconda3/envs/tf-gpu/lib/site-packages/keras_tuner/engine/hypermodel.py?line=115'>116</a>\u001b[0m \u001b[39m    Args:\u001b[39;00m\n\u001b[1;32m   (...)\u001b[0m\n\u001b[0;32m    <a href='file:///d%3A/Programmi/miniconda3/envs/tf-gpu/lib/site-packages/keras_tuner/engine/hypermodel.py?line=134'>135</a>\u001b[0m \u001b[39m        If return a float, it should be the `objective` value.\u001b[39;00m\n\u001b[0;32m    <a href='file:///d%3A/Programmi/miniconda3/envs/tf-gpu/lib/site-packages/keras_tuner/engine/hypermodel.py?line=135'>136</a>\u001b[0m \u001b[39m    \"\"\"\u001b[39;00m\n\u001b[1;32m--> <a href='file:///d%3A/Programmi/miniconda3/envs/tf-gpu/lib/site-packages/keras_tuner/engine/hypermodel.py?line=136'>137</a>\u001b[0m     \u001b[39mreturn\u001b[39;00m model\u001b[39m.\u001b[39mfit(\u001b[39m*\u001b[39margs, \u001b[39m*\u001b[39m\u001b[39m*\u001b[39mkwargs)\n",
      "File \u001b[1;32mD:\\Programmi\\miniconda3\\envs\\tf-gpu\\lib\\site-packages\\tensorflow\\python\\keras\\engine\\training.py:1193\u001b[0m, in \u001b[0;36mModel.fit\u001b[1;34m(self, x, y, batch_size, epochs, verbose, callbacks, validation_split, validation_data, shuffle, class_weight, sample_weight, initial_epoch, steps_per_epoch, validation_steps, validation_batch_size, validation_freq, max_queue_size, workers, use_multiprocessing)\u001b[0m\n\u001b[0;32m   <a href='file:///d%3A/Programmi/miniconda3/envs/tf-gpu/lib/site-packages/tensorflow/python/keras/engine/training.py?line=1185'>1186</a>\u001b[0m \u001b[39mwith\u001b[39;00m trace\u001b[39m.\u001b[39mTrace(\n\u001b[0;32m   <a href='file:///d%3A/Programmi/miniconda3/envs/tf-gpu/lib/site-packages/tensorflow/python/keras/engine/training.py?line=1186'>1187</a>\u001b[0m     \u001b[39m'\u001b[39m\u001b[39mtrain\u001b[39m\u001b[39m'\u001b[39m,\n\u001b[0;32m   <a href='file:///d%3A/Programmi/miniconda3/envs/tf-gpu/lib/site-packages/tensorflow/python/keras/engine/training.py?line=1187'>1188</a>\u001b[0m     epoch_num\u001b[39m=\u001b[39mepoch,\n\u001b[0;32m   <a href='file:///d%3A/Programmi/miniconda3/envs/tf-gpu/lib/site-packages/tensorflow/python/keras/engine/training.py?line=1188'>1189</a>\u001b[0m     step_num\u001b[39m=\u001b[39mstep,\n\u001b[0;32m   <a href='file:///d%3A/Programmi/miniconda3/envs/tf-gpu/lib/site-packages/tensorflow/python/keras/engine/training.py?line=1189'>1190</a>\u001b[0m     batch_size\u001b[39m=\u001b[39mbatch_size,\n\u001b[0;32m   <a href='file:///d%3A/Programmi/miniconda3/envs/tf-gpu/lib/site-packages/tensorflow/python/keras/engine/training.py?line=1190'>1191</a>\u001b[0m     _r\u001b[39m=\u001b[39m\u001b[39m1\u001b[39m):\n\u001b[0;32m   <a href='file:///d%3A/Programmi/miniconda3/envs/tf-gpu/lib/site-packages/tensorflow/python/keras/engine/training.py?line=1191'>1192</a>\u001b[0m   callbacks\u001b[39m.\u001b[39mon_train_batch_begin(step)\n\u001b[1;32m-> <a href='file:///d%3A/Programmi/miniconda3/envs/tf-gpu/lib/site-packages/tensorflow/python/keras/engine/training.py?line=1192'>1193</a>\u001b[0m   tmp_logs \u001b[39m=\u001b[39m \u001b[39mself\u001b[39;49m\u001b[39m.\u001b[39;49mtrain_function(iterator)\n\u001b[0;32m   <a href='file:///d%3A/Programmi/miniconda3/envs/tf-gpu/lib/site-packages/tensorflow/python/keras/engine/training.py?line=1193'>1194</a>\u001b[0m   \u001b[39mif\u001b[39;00m data_handler\u001b[39m.\u001b[39mshould_sync:\n\u001b[0;32m   <a href='file:///d%3A/Programmi/miniconda3/envs/tf-gpu/lib/site-packages/tensorflow/python/keras/engine/training.py?line=1194'>1195</a>\u001b[0m     context\u001b[39m.\u001b[39masync_wait()\n",
      "File \u001b[1;32mD:\\Programmi\\miniconda3\\envs\\tf-gpu\\lib\\site-packages\\tensorflow\\python\\eager\\def_function.py:885\u001b[0m, in \u001b[0;36mFunction.__call__\u001b[1;34m(self, *args, **kwds)\u001b[0m\n\u001b[0;32m    <a href='file:///d%3A/Programmi/miniconda3/envs/tf-gpu/lib/site-packages/tensorflow/python/eager/def_function.py?line=881'>882</a>\u001b[0m compiler \u001b[39m=\u001b[39m \u001b[39m\"\u001b[39m\u001b[39mxla\u001b[39m\u001b[39m\"\u001b[39m \u001b[39mif\u001b[39;00m \u001b[39mself\u001b[39m\u001b[39m.\u001b[39m_jit_compile \u001b[39melse\u001b[39;00m \u001b[39m\"\u001b[39m\u001b[39mnonXla\u001b[39m\u001b[39m\"\u001b[39m\n\u001b[0;32m    <a href='file:///d%3A/Programmi/miniconda3/envs/tf-gpu/lib/site-packages/tensorflow/python/eager/def_function.py?line=883'>884</a>\u001b[0m \u001b[39mwith\u001b[39;00m OptionalXlaContext(\u001b[39mself\u001b[39m\u001b[39m.\u001b[39m_jit_compile):\n\u001b[1;32m--> <a href='file:///d%3A/Programmi/miniconda3/envs/tf-gpu/lib/site-packages/tensorflow/python/eager/def_function.py?line=884'>885</a>\u001b[0m   result \u001b[39m=\u001b[39m \u001b[39mself\u001b[39m\u001b[39m.\u001b[39m_call(\u001b[39m*\u001b[39margs, \u001b[39m*\u001b[39m\u001b[39m*\u001b[39mkwds)\n\u001b[0;32m    <a href='file:///d%3A/Programmi/miniconda3/envs/tf-gpu/lib/site-packages/tensorflow/python/eager/def_function.py?line=886'>887</a>\u001b[0m new_tracing_count \u001b[39m=\u001b[39m \u001b[39mself\u001b[39m\u001b[39m.\u001b[39mexperimental_get_tracing_count()\n\u001b[0;32m    <a href='file:///d%3A/Programmi/miniconda3/envs/tf-gpu/lib/site-packages/tensorflow/python/eager/def_function.py?line=887'>888</a>\u001b[0m without_tracing \u001b[39m=\u001b[39m (tracing_count \u001b[39m==\u001b[39m new_tracing_count)\n",
      "File \u001b[1;32mD:\\Programmi\\miniconda3\\envs\\tf-gpu\\lib\\site-packages\\tensorflow\\python\\eager\\def_function.py:917\u001b[0m, in \u001b[0;36mFunction._call\u001b[1;34m(self, *args, **kwds)\u001b[0m\n\u001b[0;32m    <a href='file:///d%3A/Programmi/miniconda3/envs/tf-gpu/lib/site-packages/tensorflow/python/eager/def_function.py?line=913'>914</a>\u001b[0m   \u001b[39mself\u001b[39m\u001b[39m.\u001b[39m_lock\u001b[39m.\u001b[39mrelease()\n\u001b[0;32m    <a href='file:///d%3A/Programmi/miniconda3/envs/tf-gpu/lib/site-packages/tensorflow/python/eager/def_function.py?line=914'>915</a>\u001b[0m   \u001b[39m# In this case we have created variables on the first call, so we run the\u001b[39;00m\n\u001b[0;32m    <a href='file:///d%3A/Programmi/miniconda3/envs/tf-gpu/lib/site-packages/tensorflow/python/eager/def_function.py?line=915'>916</a>\u001b[0m   \u001b[39m# defunned version which is guaranteed to never create variables.\u001b[39;00m\n\u001b[1;32m--> <a href='file:///d%3A/Programmi/miniconda3/envs/tf-gpu/lib/site-packages/tensorflow/python/eager/def_function.py?line=916'>917</a>\u001b[0m   \u001b[39mreturn\u001b[39;00m \u001b[39mself\u001b[39m\u001b[39m.\u001b[39m_stateless_fn(\u001b[39m*\u001b[39margs, \u001b[39m*\u001b[39m\u001b[39m*\u001b[39mkwds)  \u001b[39m# pylint: disable=not-callable\u001b[39;00m\n\u001b[0;32m    <a href='file:///d%3A/Programmi/miniconda3/envs/tf-gpu/lib/site-packages/tensorflow/python/eager/def_function.py?line=917'>918</a>\u001b[0m \u001b[39melif\u001b[39;00m \u001b[39mself\u001b[39m\u001b[39m.\u001b[39m_stateful_fn \u001b[39mis\u001b[39;00m \u001b[39mnot\u001b[39;00m \u001b[39mNone\u001b[39;00m:\n\u001b[0;32m    <a href='file:///d%3A/Programmi/miniconda3/envs/tf-gpu/lib/site-packages/tensorflow/python/eager/def_function.py?line=918'>919</a>\u001b[0m   \u001b[39m# Release the lock early so that multiple threads can perform the call\u001b[39;00m\n\u001b[0;32m    <a href='file:///d%3A/Programmi/miniconda3/envs/tf-gpu/lib/site-packages/tensorflow/python/eager/def_function.py?line=919'>920</a>\u001b[0m   \u001b[39m# in parallel.\u001b[39;00m\n\u001b[0;32m    <a href='file:///d%3A/Programmi/miniconda3/envs/tf-gpu/lib/site-packages/tensorflow/python/eager/def_function.py?line=920'>921</a>\u001b[0m   \u001b[39mself\u001b[39m\u001b[39m.\u001b[39m_lock\u001b[39m.\u001b[39mrelease()\n",
      "File \u001b[1;32mD:\\Programmi\\miniconda3\\envs\\tf-gpu\\lib\\site-packages\\tensorflow\\python\\eager\\function.py:3039\u001b[0m, in \u001b[0;36mFunction.__call__\u001b[1;34m(self, *args, **kwargs)\u001b[0m\n\u001b[0;32m   <a href='file:///d%3A/Programmi/miniconda3/envs/tf-gpu/lib/site-packages/tensorflow/python/eager/function.py?line=3035'>3036</a>\u001b[0m \u001b[39mwith\u001b[39;00m \u001b[39mself\u001b[39m\u001b[39m.\u001b[39m_lock:\n\u001b[0;32m   <a href='file:///d%3A/Programmi/miniconda3/envs/tf-gpu/lib/site-packages/tensorflow/python/eager/function.py?line=3036'>3037</a>\u001b[0m   (graph_function,\n\u001b[0;32m   <a href='file:///d%3A/Programmi/miniconda3/envs/tf-gpu/lib/site-packages/tensorflow/python/eager/function.py?line=3037'>3038</a>\u001b[0m    filtered_flat_args) \u001b[39m=\u001b[39m \u001b[39mself\u001b[39m\u001b[39m.\u001b[39m_maybe_define_function(args, kwargs)\n\u001b[1;32m-> <a href='file:///d%3A/Programmi/miniconda3/envs/tf-gpu/lib/site-packages/tensorflow/python/eager/function.py?line=3038'>3039</a>\u001b[0m \u001b[39mreturn\u001b[39;00m graph_function\u001b[39m.\u001b[39;49m_call_flat(\n\u001b[0;32m   <a href='file:///d%3A/Programmi/miniconda3/envs/tf-gpu/lib/site-packages/tensorflow/python/eager/function.py?line=3039'>3040</a>\u001b[0m     filtered_flat_args, captured_inputs\u001b[39m=\u001b[39;49mgraph_function\u001b[39m.\u001b[39;49mcaptured_inputs)\n",
      "File \u001b[1;32mD:\\Programmi\\miniconda3\\envs\\tf-gpu\\lib\\site-packages\\tensorflow\\python\\eager\\function.py:1963\u001b[0m, in \u001b[0;36mConcreteFunction._call_flat\u001b[1;34m(self, args, captured_inputs, cancellation_manager)\u001b[0m\n\u001b[0;32m   <a href='file:///d%3A/Programmi/miniconda3/envs/tf-gpu/lib/site-packages/tensorflow/python/eager/function.py?line=1958'>1959</a>\u001b[0m possible_gradient_type \u001b[39m=\u001b[39m gradients_util\u001b[39m.\u001b[39mPossibleTapeGradientTypes(args)\n\u001b[0;32m   <a href='file:///d%3A/Programmi/miniconda3/envs/tf-gpu/lib/site-packages/tensorflow/python/eager/function.py?line=1959'>1960</a>\u001b[0m \u001b[39mif\u001b[39;00m (possible_gradient_type \u001b[39m==\u001b[39m gradients_util\u001b[39m.\u001b[39mPOSSIBLE_GRADIENT_TYPES_NONE\n\u001b[0;32m   <a href='file:///d%3A/Programmi/miniconda3/envs/tf-gpu/lib/site-packages/tensorflow/python/eager/function.py?line=1960'>1961</a>\u001b[0m     \u001b[39mand\u001b[39;00m executing_eagerly):\n\u001b[0;32m   <a href='file:///d%3A/Programmi/miniconda3/envs/tf-gpu/lib/site-packages/tensorflow/python/eager/function.py?line=1961'>1962</a>\u001b[0m   \u001b[39m# No tape is watching; skip to running the function.\u001b[39;00m\n\u001b[1;32m-> <a href='file:///d%3A/Programmi/miniconda3/envs/tf-gpu/lib/site-packages/tensorflow/python/eager/function.py?line=1962'>1963</a>\u001b[0m   \u001b[39mreturn\u001b[39;00m \u001b[39mself\u001b[39m\u001b[39m.\u001b[39m_build_call_outputs(\u001b[39mself\u001b[39;49m\u001b[39m.\u001b[39;49m_inference_function\u001b[39m.\u001b[39;49mcall(\n\u001b[0;32m   <a href='file:///d%3A/Programmi/miniconda3/envs/tf-gpu/lib/site-packages/tensorflow/python/eager/function.py?line=1963'>1964</a>\u001b[0m       ctx, args, cancellation_manager\u001b[39m=\u001b[39;49mcancellation_manager))\n\u001b[0;32m   <a href='file:///d%3A/Programmi/miniconda3/envs/tf-gpu/lib/site-packages/tensorflow/python/eager/function.py?line=1964'>1965</a>\u001b[0m forward_backward \u001b[39m=\u001b[39m \u001b[39mself\u001b[39m\u001b[39m.\u001b[39m_select_forward_and_backward_functions(\n\u001b[0;32m   <a href='file:///d%3A/Programmi/miniconda3/envs/tf-gpu/lib/site-packages/tensorflow/python/eager/function.py?line=1965'>1966</a>\u001b[0m     args,\n\u001b[0;32m   <a href='file:///d%3A/Programmi/miniconda3/envs/tf-gpu/lib/site-packages/tensorflow/python/eager/function.py?line=1966'>1967</a>\u001b[0m     possible_gradient_type,\n\u001b[0;32m   <a href='file:///d%3A/Programmi/miniconda3/envs/tf-gpu/lib/site-packages/tensorflow/python/eager/function.py?line=1967'>1968</a>\u001b[0m     executing_eagerly)\n\u001b[0;32m   <a href='file:///d%3A/Programmi/miniconda3/envs/tf-gpu/lib/site-packages/tensorflow/python/eager/function.py?line=1968'>1969</a>\u001b[0m forward_function, args_with_tangents \u001b[39m=\u001b[39m forward_backward\u001b[39m.\u001b[39mforward()\n",
      "File \u001b[1;32mD:\\Programmi\\miniconda3\\envs\\tf-gpu\\lib\\site-packages\\tensorflow\\python\\eager\\function.py:591\u001b[0m, in \u001b[0;36m_EagerDefinedFunction.call\u001b[1;34m(self, ctx, args, cancellation_manager)\u001b[0m\n\u001b[0;32m    <a href='file:///d%3A/Programmi/miniconda3/envs/tf-gpu/lib/site-packages/tensorflow/python/eager/function.py?line=588'>589</a>\u001b[0m \u001b[39mwith\u001b[39;00m _InterpolateFunctionError(\u001b[39mself\u001b[39m):\n\u001b[0;32m    <a href='file:///d%3A/Programmi/miniconda3/envs/tf-gpu/lib/site-packages/tensorflow/python/eager/function.py?line=589'>590</a>\u001b[0m   \u001b[39mif\u001b[39;00m cancellation_manager \u001b[39mis\u001b[39;00m \u001b[39mNone\u001b[39;00m:\n\u001b[1;32m--> <a href='file:///d%3A/Programmi/miniconda3/envs/tf-gpu/lib/site-packages/tensorflow/python/eager/function.py?line=590'>591</a>\u001b[0m     outputs \u001b[39m=\u001b[39m execute\u001b[39m.\u001b[39;49mexecute(\n\u001b[0;32m    <a href='file:///d%3A/Programmi/miniconda3/envs/tf-gpu/lib/site-packages/tensorflow/python/eager/function.py?line=591'>592</a>\u001b[0m         \u001b[39mstr\u001b[39;49m(\u001b[39mself\u001b[39;49m\u001b[39m.\u001b[39;49msignature\u001b[39m.\u001b[39;49mname),\n\u001b[0;32m    <a href='file:///d%3A/Programmi/miniconda3/envs/tf-gpu/lib/site-packages/tensorflow/python/eager/function.py?line=592'>593</a>\u001b[0m         num_outputs\u001b[39m=\u001b[39;49m\u001b[39mself\u001b[39;49m\u001b[39m.\u001b[39;49m_num_outputs,\n\u001b[0;32m    <a href='file:///d%3A/Programmi/miniconda3/envs/tf-gpu/lib/site-packages/tensorflow/python/eager/function.py?line=593'>594</a>\u001b[0m         inputs\u001b[39m=\u001b[39;49margs,\n\u001b[0;32m    <a href='file:///d%3A/Programmi/miniconda3/envs/tf-gpu/lib/site-packages/tensorflow/python/eager/function.py?line=594'>595</a>\u001b[0m         attrs\u001b[39m=\u001b[39;49mattrs,\n\u001b[0;32m    <a href='file:///d%3A/Programmi/miniconda3/envs/tf-gpu/lib/site-packages/tensorflow/python/eager/function.py?line=595'>596</a>\u001b[0m         ctx\u001b[39m=\u001b[39;49mctx)\n\u001b[0;32m    <a href='file:///d%3A/Programmi/miniconda3/envs/tf-gpu/lib/site-packages/tensorflow/python/eager/function.py?line=596'>597</a>\u001b[0m   \u001b[39melse\u001b[39;00m:\n\u001b[0;32m    <a href='file:///d%3A/Programmi/miniconda3/envs/tf-gpu/lib/site-packages/tensorflow/python/eager/function.py?line=597'>598</a>\u001b[0m     outputs \u001b[39m=\u001b[39m execute\u001b[39m.\u001b[39mexecute_with_cancellation(\n\u001b[0;32m    <a href='file:///d%3A/Programmi/miniconda3/envs/tf-gpu/lib/site-packages/tensorflow/python/eager/function.py?line=598'>599</a>\u001b[0m         \u001b[39mstr\u001b[39m(\u001b[39mself\u001b[39m\u001b[39m.\u001b[39msignature\u001b[39m.\u001b[39mname),\n\u001b[0;32m    <a href='file:///d%3A/Programmi/miniconda3/envs/tf-gpu/lib/site-packages/tensorflow/python/eager/function.py?line=599'>600</a>\u001b[0m         num_outputs\u001b[39m=\u001b[39m\u001b[39mself\u001b[39m\u001b[39m.\u001b[39m_num_outputs,\n\u001b[1;32m   (...)\u001b[0m\n\u001b[0;32m    <a href='file:///d%3A/Programmi/miniconda3/envs/tf-gpu/lib/site-packages/tensorflow/python/eager/function.py?line=602'>603</a>\u001b[0m         ctx\u001b[39m=\u001b[39mctx,\n\u001b[0;32m    <a href='file:///d%3A/Programmi/miniconda3/envs/tf-gpu/lib/site-packages/tensorflow/python/eager/function.py?line=603'>604</a>\u001b[0m         cancellation_manager\u001b[39m=\u001b[39mcancellation_manager)\n",
      "File \u001b[1;32mD:\\Programmi\\miniconda3\\envs\\tf-gpu\\lib\\site-packages\\tensorflow\\python\\eager\\execute.py:59\u001b[0m, in \u001b[0;36mquick_execute\u001b[1;34m(op_name, num_outputs, inputs, attrs, ctx, name)\u001b[0m\n\u001b[0;32m     <a href='file:///d%3A/Programmi/miniconda3/envs/tf-gpu/lib/site-packages/tensorflow/python/eager/execute.py?line=56'>57</a>\u001b[0m \u001b[39mtry\u001b[39;00m:\n\u001b[0;32m     <a href='file:///d%3A/Programmi/miniconda3/envs/tf-gpu/lib/site-packages/tensorflow/python/eager/execute.py?line=57'>58</a>\u001b[0m   ctx\u001b[39m.\u001b[39mensure_initialized()\n\u001b[1;32m---> <a href='file:///d%3A/Programmi/miniconda3/envs/tf-gpu/lib/site-packages/tensorflow/python/eager/execute.py?line=58'>59</a>\u001b[0m   tensors \u001b[39m=\u001b[39m pywrap_tfe\u001b[39m.\u001b[39;49mTFE_Py_Execute(ctx\u001b[39m.\u001b[39;49m_handle, device_name, op_name,\n\u001b[0;32m     <a href='file:///d%3A/Programmi/miniconda3/envs/tf-gpu/lib/site-packages/tensorflow/python/eager/execute.py?line=59'>60</a>\u001b[0m                                       inputs, attrs, num_outputs)\n\u001b[0;32m     <a href='file:///d%3A/Programmi/miniconda3/envs/tf-gpu/lib/site-packages/tensorflow/python/eager/execute.py?line=60'>61</a>\u001b[0m \u001b[39mexcept\u001b[39;00m core\u001b[39m.\u001b[39m_NotOkStatusException \u001b[39mas\u001b[39;00m e:\n\u001b[0;32m     <a href='file:///d%3A/Programmi/miniconda3/envs/tf-gpu/lib/site-packages/tensorflow/python/eager/execute.py?line=61'>62</a>\u001b[0m   \u001b[39mif\u001b[39;00m name \u001b[39mis\u001b[39;00m \u001b[39mnot\u001b[39;00m \u001b[39mNone\u001b[39;00m:\n",
      "\u001b[1;31mKeyboardInterrupt\u001b[0m: "
     ]
    }
   ],
   "source": [
    "tuner.search(train_tokens, review_data.train_data[1],\n",
    "             batch_size=128, epochs=1000,\n",
    "             validation_data=(val_tokens, review_data.val_data[1]),\n",
    "             callbacks=[stop_early_cb, tensorboard_cb],\n",
    "             verbose=0)\n"
   ]
  },
  {
   "cell_type": "code",
   "execution_count": null,
   "metadata": {},
   "outputs": [],
   "source": [
    "# Get the optimal hyperparameters from the results\n",
    "best_hps=tuner.get_best_hyperparameters()[0]\n",
    "\n",
    "\n",
    "# Build model\n",
    "h_model = tuner.hypermodel.build(best_hps)\n",
    "\n",
    "# Train the hypertuned model\n",
    "h_model.fit(train_tokens, review_data.train_data[1], epochs=1000, validation_data=(val_tokens, review_data.val_data[1]), callbacks=[stop_early])"
   ]
  },
  {
   "cell_type": "code",
   "execution_count": null,
   "metadata": {},
   "outputs": [],
   "source": [
    "best_model = tuner.get_best_models()[0]\n",
    "\n",
    "# tuner.results_summary()\n",
    "best_model.summary()"
   ]
  }
 ],
 "metadata": {
  "interpreter": {
   "hash": "fb20caab5ee8cc09ab8b75b23426de7ab409d2661b4ee85e5bcb1125eed550bf"
  },
  "kernelspec": {
   "display_name": "Python 3.9.10 ('tf-gpu')",
   "language": "python",
   "name": "python3"
  },
  "language_info": {
   "codemirror_mode": {
    "name": "ipython",
    "version": 3
   },
   "file_extension": ".py",
   "mimetype": "text/x-python",
   "name": "python",
   "nbconvert_exporter": "python",
   "pygments_lexer": "ipython3",
   "version": "3.9.10"
  },
  "orig_nbformat": 4
 },
 "nbformat": 4,
 "nbformat_minor": 2
}
