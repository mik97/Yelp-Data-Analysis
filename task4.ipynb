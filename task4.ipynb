{
 "cells": [
  {
   "cell_type": "markdown",
   "metadata": {},
   "source": [
    "# TASK 4\n",
    "Creazione di due sistemi di raccomandazione di ristoranti:\n",
    "- **Content-based**: basato sulle caratteristiche del locale;\n",
    "- **Collaborative**: sulla base delle preferenze degli utenti del sistema."
   ]
  },
  {
   "cell_type": "code",
   "execution_count": 1,
   "metadata": {},
   "outputs": [],
   "source": [
    "from sklearn.neighbors import NearestNeighbors\n",
    "from sklearn.decomposition import TruncatedSVD\n",
    "\n",
    "from libraries.dataset import Dataset\n",
    "import libraries.data_handler as data_handler\n",
    "import pandas as pd\n",
    "import numpy as np\n",
    "import ast"
   ]
  },
  {
   "cell_type": "markdown",
   "metadata": {},
   "source": [
    "## Data retrieving\n",
    "Ottenimento dei dati relativi alle recensioni, bilanciati sulla base delle stelle, al fine di ottenere lo stesso numero di review per ogni possibile valutazione (da 1 a 5).\n",
    "In questo specifico caso, sono richiesti 20'000 campioni per ogni tipo di classe (per un totale di 100'000 campioni).\n",
    "\n",
    "L'oggetto `review_data` contiene tre field relativi ai subdataset da utilizzare nel progetto:\n",
    "- `train_data` = tupla contentente i dati ed i target per il training\n",
    "- `val_data` = tupla contentente i dati ed i target per la validazione\n",
    "- `test_data` = tupla contentente i dati ed i target per il testing\n",
    "\n",
    "Alla prima esecuzione, i tre diversi subset sono memorizzati sottoforma di file csv, in modo da evitare la riesecuzione del codice di splitting dei dataset durante le successive esecuzioni.  "
   ]
  },
  {
   "cell_type": "code",
   "execution_count": null,
   "metadata": {},
   "outputs": [],
   "source": [
    "review_data = Dataset('review', 'stars')\n",
    "\n",
    "review_data.split(['user_id', 'business_id', 'text'], 'stars', n_samples=20_000)"
   ]
  },
  {
   "cell_type": "markdown",
   "metadata": {},
   "source": [
    "Si è scelto di lavorare con un sottogruppo del dataset originale delle aziende, formato solo dai ristoranti collocati in Georgia, Florida e Texas. "
   ]
  },
  {
   "cell_type": "markdown",
   "metadata": {},
   "source": [
    "\n",
    "Per ottenere il subset, è stato inizialmente creato l'oggetto `business_data`, contenente tutte le informazioni relative alle attività all'interno dei tre stati.\n",
    "In particolare, le features che compongono il dataset sono il *business id*, il *nome* dell'azienda, l'*indirizzo*, le *categorie* a cui appartiene l'attività, le *caratteristiche* (parcheggio, fascia di prezzo, ecc.) e il *voto medio* dell'attività in stelle."
   ]
  },
  {
   "cell_type": "code",
   "execution_count": null,
   "metadata": {},
   "outputs": [],
   "source": [
    "business_data = pd.DataFrame(data_handler.load_dataset('business'))\n",
    "business_data = business_data[(business_data['state']=='GA') | (business_data['state'] == 'FL') | (business_data['state'] == 'TX')].reset_index()\n",
    "business_data = business_data[['business_id','name','address', 'categories', 'attributes','stars']]"
   ]
  },
  {
   "cell_type": "markdown",
   "metadata": {},
   "source": [
    "Sono stati poi selezionati solo i ristoranti ed il risultato è stato salvato nell'oggetto `restaurants_data`."
   ]
  },
  {
   "cell_type": "code",
   "execution_count": 4,
   "metadata": {},
   "outputs": [],
   "source": [
    "restaurants_data = business_data[business_data['categories'].str.contains('Restaurant.*')==True].reset_index()"
   ]
  },
  {
   "cell_type": "markdown",
   "metadata": {},
   "source": [
    "Sono state definite delle funzioni per l'*estrazione* delle chiavi contenute all'interno di dizionari annidati nel dizionario della feature `attributes` e per la *conversione* di una stringa in dizionario."
   ]
  },
  {
   "cell_type": "code",
   "execution_count": 5,
   "metadata": {},
   "outputs": [],
   "source": [
    "def extract_keys(attr, key):\n",
    "    if attr == None:\n",
    "        return \"{}\"\n",
    "    if key in attr:\n",
    "        return attr.pop(key)\n",
    "\n",
    "def str_to_dict(attr):\n",
    "    if attr != None:\n",
    "        return ast.literal_eval(attr)\n",
    "    else:\n",
    "        return ast.literal_eval(\"{}\")   "
   ]
  },
  {
   "cell_type": "code",
   "execution_count": 6,
   "metadata": {},
   "outputs": [],
   "source": [
    "def to_Dict(attribute):\n",
    "    restaurants_data[attribute] = restaurants_data.apply(lambda x: str_to_dict(extract_keys(x['attributes'], attribute)), axis=1)"
   ]
  },
  {
   "cell_type": "code",
   "execution_count": 7,
   "metadata": {},
   "outputs": [],
   "source": [
    "to_Dict('BusinessParking')\n",
    "to_Dict('Ambience')\n",
    "to_Dict('GoodForMeal')\n",
    "to_Dict('Dietary')\n",
    "to_Dict('Music')"
   ]
  },
  {
   "cell_type": "markdown",
   "metadata": {},
   "source": [
    "Concatenazione delle serie relative alle features che formeranno il nuovo dataset e one-hot encoding di tali serie."
   ]
  },
  {
   "cell_type": "code",
   "execution_count": null,
   "metadata": {},
   "outputs": [],
   "source": [
    "df_attr = pd.concat([ restaurants_data['attributes'].apply(pd.Series), restaurants_data['BusinessParking'].apply(pd.Series),\n",
    "                    restaurants_data['Ambience'].apply(pd.Series), restaurants_data['GoodForMeal'].apply(pd.Series), \n",
    "                    restaurants_data['Dietary'].apply(pd.Series)], axis=1)\n",
    "df_attr_dummies = pd.get_dummies(df_attr)"
   ]
  },
  {
   "cell_type": "code",
   "execution_count": null,
   "metadata": {},
   "outputs": [],
   "source": [
    "df_categories_dummies = pd.Series(restaurants_data['categories']).str.get_dummies(',')\n",
    "df_categories_dummies"
   ]
  },
  {
   "cell_type": "code",
   "execution_count": null,
   "metadata": {},
   "outputs": [],
   "source": [
    "result = restaurants_data[['name','stars']]\n",
    "result"
   ]
  },
  {
   "cell_type": "markdown",
   "metadata": {},
   "source": [
    "Il dataset finale è ottenuto dalla concatenazione di attributi, categorie e ristoranti.\n",
    "\n",
    "Gli attributi e le categorie sono features trasformate con il one-hot encoding del passo precedente. Inoltre, le stelle sono convertite in interi per agevolarne l'utilizzo nell'addestramento dei modelli."
   ]
  },
  {
   "cell_type": "code",
   "execution_count": 11,
   "metadata": {},
   "outputs": [],
   "source": [
    "df_final = pd.concat([df_attr_dummies, df_categories_dummies, result], axis=1)\n",
    "df_final.drop('Restaurants',inplace=True,axis=1)\n",
    "df_final['stars'] = df_final['stars'].astype(int)"
   ]
  },
  {
   "cell_type": "markdown",
   "metadata": {},
   "source": [
    "## Content Based Filtering"
   ]
  },
  {
   "cell_type": "markdown",
   "metadata": {},
   "source": [
    "### KNN\n",
    "Definizione di un Recommendation System che utilizza l'algoritmo KNN per l'ottenimento di ristoranti simili.\n",
    "\n",
    "Il modello è stato addestrato sull'intero dataset escludendo l'ultimo sample, utilizzato per fase di testing. Il valore di k per il numero dei vicini è stato fissato a 5."
   ]
  },
  {
   "cell_type": "code",
   "execution_count": null,
   "metadata": {},
   "outputs": [],
   "source": [
    "knn = NearestNeighbors(n_neighbors=5)\n",
    "knn.fit(df_final.iloc[:-1,:-2])"
   ]
  },
  {
   "cell_type": "markdown",
   "metadata": {},
   "source": [
    "Visualizzazione del nome del ristorante scelto per la fase di testing."
   ]
  },
  {
   "cell_type": "code",
   "execution_count": 15,
   "metadata": {},
   "outputs": [
    {
     "name": "stdout",
     "output_type": "stream",
     "text": [
      "Test set (Restaurant name):  Zora Grille\n"
     ]
    }
   ],
   "source": [
    "test_sample = df_final.iloc[-1:,:-2]\n",
    "print(\"Test set (Restaurant name): \", df_final['name'].values[-1])"
   ]
  },
  {
   "cell_type": "markdown",
   "metadata": {},
   "source": [
    "Calcolo dei vicini, ovvero i ristoranti da suggerire, rispetto al test sample."
   ]
  },
  {
   "cell_type": "code",
   "execution_count": 17,
   "metadata": {},
   "outputs": [
    {
     "data": {
      "text/html": [
       "<div>\n",
       "<style scoped>\n",
       "    .dataframe tbody tr th:only-of-type {\n",
       "        vertical-align: middle;\n",
       "    }\n",
       "\n",
       "    .dataframe tbody tr th {\n",
       "        vertical-align: top;\n",
       "    }\n",
       "\n",
       "    .dataframe thead th {\n",
       "        text-align: right;\n",
       "    }\n",
       "</style>\n",
       "<table border=\"1\" class=\"dataframe\">\n",
       "  <thead>\n",
       "    <tr style=\"text-align: right;\">\n",
       "      <th></th>\n",
       "      <th>distance</th>\n",
       "    </tr>\n",
       "    <tr>\n",
       "      <th>index</th>\n",
       "      <th></th>\n",
       "    </tr>\n",
       "  </thead>\n",
       "  <tbody>\n",
       "    <tr>\n",
       "      <th>2390</th>\n",
       "      <td>3.316625</td>\n",
       "    </tr>\n",
       "    <tr>\n",
       "      <th>5135</th>\n",
       "      <td>3.464102</td>\n",
       "    </tr>\n",
       "    <tr>\n",
       "      <th>9057</th>\n",
       "      <td>3.464102</td>\n",
       "    </tr>\n",
       "    <tr>\n",
       "      <th>2605</th>\n",
       "      <td>3.605551</td>\n",
       "    </tr>\n",
       "    <tr>\n",
       "      <th>18103</th>\n",
       "      <td>3.605551</td>\n",
       "    </tr>\n",
       "  </tbody>\n",
       "</table>\n",
       "</div>"
      ],
      "text/plain": [
       "       distance\n",
       "index          \n",
       "2390   3.316625\n",
       "5135   3.464102\n",
       "9057   3.464102\n",
       "2605   3.605551\n",
       "18103  3.605551"
      ]
     },
     "execution_count": 17,
     "metadata": {},
     "output_type": "execute_result"
    }
   ],
   "source": [
    "distances, indices =  knn.kneighbors(test_sample)\n",
    "\n",
    "final_table = pd.DataFrame(data={'index': indices[0], 'distance': distances[0]})\n",
    "final_table.set_index('index')"
   ]
  },
  {
   "cell_type": "markdown",
   "metadata": {},
   "source": [
    "Visualizzazione dei ristoranti suggeriti sulla base delle caratteristiche del ristorante di test."
   ]
  },
  {
   "cell_type": "code",
   "execution_count": 22,
   "metadata": {},
   "outputs": [
    {
     "data": {
      "text/html": [
       "<div>\n",
       "<style scoped>\n",
       "    .dataframe tbody tr th:only-of-type {\n",
       "        vertical-align: middle;\n",
       "    }\n",
       "\n",
       "    .dataframe tbody tr th {\n",
       "        vertical-align: top;\n",
       "    }\n",
       "\n",
       "    .dataframe thead th {\n",
       "        text-align: right;\n",
       "    }\n",
       "</style>\n",
       "<table border=\"1\" class=\"dataframe\">\n",
       "  <thead>\n",
       "    <tr style=\"text-align: right;\">\n",
       "      <th></th>\n",
       "      <th>distance</th>\n",
       "      <th>index</th>\n",
       "      <th>name</th>\n",
       "      <th>stars</th>\n",
       "    </tr>\n",
       "  </thead>\n",
       "  <tbody>\n",
       "    <tr>\n",
       "      <th>0</th>\n",
       "      <td>3.316625</td>\n",
       "      <td>2390</td>\n",
       "      <td>Mezza</td>\n",
       "      <td>4</td>\n",
       "    </tr>\n",
       "    <tr>\n",
       "      <th>1</th>\n",
       "      <td>3.464102</td>\n",
       "      <td>5135</td>\n",
       "      <td>Royal Indian Cuisine</td>\n",
       "      <td>4</td>\n",
       "    </tr>\n",
       "    <tr>\n",
       "      <th>2</th>\n",
       "      <td>3.464102</td>\n",
       "      <td>9057</td>\n",
       "      <td>Ray's Rio Bravo</td>\n",
       "      <td>2</td>\n",
       "    </tr>\n",
       "    <tr>\n",
       "      <th>3</th>\n",
       "      <td>3.605551</td>\n",
       "      <td>2605</td>\n",
       "      <td>Nicola's Restaurant</td>\n",
       "      <td>4</td>\n",
       "    </tr>\n",
       "    <tr>\n",
       "      <th>4</th>\n",
       "      <td>3.605551</td>\n",
       "      <td>18103</td>\n",
       "      <td>Punjab Indian Restaurant</td>\n",
       "      <td>2</td>\n",
       "    </tr>\n",
       "  </tbody>\n",
       "</table>\n",
       "</div>"
      ],
      "text/plain": [
       "   distance  index                      name  stars\n",
       "0  3.316625   2390                     Mezza      4\n",
       "1  3.464102   5135      Royal Indian Cuisine      4\n",
       "2  3.464102   9057           Ray's Rio Bravo      2\n",
       "3  3.605551   2605       Nicola's Restaurant      4\n",
       "4  3.605551  18103  Punjab Indian Restaurant      2"
      ]
     },
     "execution_count": 22,
     "metadata": {},
     "output_type": "execute_result"
    }
   ],
   "source": [
    "result = final_table.join(df_final,on='index')\n",
    "result[['distance','index','name','stars']]"
   ]
  },
  {
   "cell_type": "markdown",
   "metadata": {},
   "source": [
    "## Collaborative Based Filtering"
   ]
  },
  {
   "cell_type": "markdown",
   "metadata": {},
   "source": [
    "## SVD\n",
    "\n",
    "Definizione di un Recommendation System di tipo collaborative, che suggerisce ristoranti sulla base delle preferenze degli utenti nel sistema.\n",
    "\n",
    "E' stata scelta la tecnica SVD, una particolare fattorizzazione di matrice basata sull'utilizzo di autovalori e autovettori.\n",
    "Viene utilizzata una combinazione dei dataset delle *recensioni* e dei *ristoranti* al fine di ottenere una matrice. A partire da tale matrice si otterranno poi i ristoranti che risultano avere una correlazione particolarmente forte con il ristorante in input."
   ]
  },
  {
   "cell_type": "code",
   "execution_count": null,
   "metadata": {},
   "outputs": [],
   "source": [
    "restaurants = restaurants_data[['business_id', 'name', 'address']]\n",
    "reviews = review_data.train_data[0]\n",
    "reviews['stars'] = review_data.train_data[1]\n",
    "\n",
    "combined_business_data = pd.merge(reviews, restaurants, on='business_id')\n",
    "combined_business_data"
   ]
  },
  {
   "cell_type": "markdown",
   "metadata": {},
   "source": [
    "Visualizzazione dei primi cinque ristoranti che hanno avuto il numero più alto di stelle da parte degli utenti."
   ]
  },
  {
   "cell_type": "code",
   "execution_count": 24,
   "metadata": {},
   "outputs": [
    {
     "data": {
      "text/plain": [
       "business_id\n",
       "bZiIIUcpgxh8mpKMDhdqbA    45\n",
       "sPhPI3B6tvcJIULhICr-Pg    44\n",
       "CxQ1m2iY4wQpXC64tSfWgQ    43\n",
       "WkN8Z2Q8gbhjjkCt8cDVxg    43\n",
       "MGzro82Fi4LYvc86acoONQ    42\n",
       "Name: stars, dtype: int64"
      ]
     },
     "execution_count": 24,
     "metadata": {},
     "output_type": "execute_result"
    }
   ],
   "source": [
    "combined_business_data.groupby('business_id')['stars'].count().sort_values(ascending=False).head()"
   ]
  },
  {
   "cell_type": "markdown",
   "metadata": {},
   "source": [
    "Si seleziona il ristorante che sarà l'input del recommendation system."
   ]
  },
  {
   "cell_type": "code",
   "execution_count": 25,
   "metadata": {},
   "outputs": [
    {
     "name": "stdout",
     "output_type": "stream",
     "text": [
      "Name:  ['Hopdoddy Burger Bar']\n",
      "Address: ['1400 S Congress Ave, Ste A190']\n"
     ]
    }
   ],
   "source": [
    "filtered = combined_business_data['business_id'] == 'bZiIIUcpgxh8mpKMDhdqbA'\n",
    "print(\"Name: \", combined_business_data[filtered]['name'].unique())\n",
    "print(\"Address:\", combined_business_data[filtered]['address'].unique())"
   ]
  },
  {
   "cell_type": "markdown",
   "metadata": {},
   "source": [
    "Calcolo della matrice le cui righe corrispondono agli utenti, le colonne ai ristoranti ed ogni cella rappresenta il numero di stelle che l'utente ha assegnato ad ogni ristorante."
   ]
  },
  {
   "cell_type": "code",
   "execution_count": null,
   "metadata": {},
   "outputs": [],
   "source": [
    "rating_crosstab = combined_business_data.pivot_table(values='stars', index='user_id', columns='name', fill_value=0)\n",
    "rating_crosstab.head()"
   ]
  },
  {
   "cell_type": "markdown",
   "metadata": {},
   "source": [
    "Fitting dell'SVD sulla matrice ottenuta."
   ]
  },
  {
   "cell_type": "code",
   "execution_count": 27,
   "metadata": {},
   "outputs": [],
   "source": [
    "SVD = TruncatedSVD(n_components=12, random_state=17)\n",
    "result_matrix = SVD.fit_transform(rating_crosstab.values.T)"
   ]
  },
  {
   "cell_type": "markdown",
   "metadata": {},
   "source": [
    "Calcolo della matrice dei coefficienti di correlazione a partire dalla matrice calcolata dall'SVD."
   ]
  },
  {
   "cell_type": "code",
   "execution_count": 28,
   "metadata": {},
   "outputs": [],
   "source": [
    "corr_matrix = np.corrcoef(result_matrix)"
   ]
  },
  {
   "cell_type": "markdown",
   "metadata": {},
   "source": [
    "Ricerca dell'indice relativo al ristorante con il maggior numero di stelle."
   ]
  },
  {
   "cell_type": "code",
   "execution_count": 29,
   "metadata": {},
   "outputs": [
    {
     "name": "stdout",
     "output_type": "stream",
     "text": [
      "index of the popular restaurant:  2852\n"
     ]
    }
   ],
   "source": [
    "restaurant_names = rating_crosstab.columns\n",
    "restaurants_list = list(restaurant_names)\n",
    "\n",
    "popular_rest = restaurants_list.index('Hopdoddy Burger Bar')\n",
    "print(\"index of the popular restaurant: \", popular_rest) "
   ]
  },
  {
   "cell_type": "markdown",
   "metadata": {},
   "source": [
    "Selezione degli indici dei ristoranti fortemente correlati al ristorante in input."
   ]
  },
  {
   "cell_type": "code",
   "execution_count": 30,
   "metadata": {},
   "outputs": [
    {
     "data": {
      "text/plain": [
       "[948, 1809, 2257, 2397, 2852, 2973, 5114, 5563, 5811, 6230, 6653, 7112]"
      ]
     },
     "execution_count": 30,
     "metadata": {},
     "output_type": "execute_result"
    }
   ],
   "source": [
    "corr_popular_rest = corr_matrix[popular_rest]\n",
    "corrIndices = [i for i, x in enumerate((corr_popular_rest <= 1.0) & (corr_popular_rest > 0.9)) if x]\n",
    "corrIndices"
   ]
  },
  {
   "cell_type": "markdown",
   "metadata": {},
   "source": [
    "Visualizzazione dei 10 ristoranti suggeriti dal Recommendation System con il relativo coefficiente di correlazione."
   ]
  },
  {
   "cell_type": "code",
   "execution_count": 31,
   "metadata": {},
   "outputs": [
    {
     "data": {
      "text/plain": [
       "[('Doghouse', 0.9999955245780303),\n",
       " ('Fogo De Chão Brazilian Steakhouse', 0.9999942452978231),\n",
       " ('Zaviya Grill', 0.9999122444240708),\n",
       " ('Tumble22', 0.9998342999940556),\n",
       " ('Independence Fine Foods', 0.9997540124544847),\n",
       " ('Social House Orlando', 0.9995505478815057),\n",
       " (\"Rio's Brazilian Cafe\", 0.9994173499828607),\n",
       " ('Sway', 0.9928870187377924),\n",
       " ('Bun Belly', 0.9915646397639292),\n",
       " ('The Funkadelic', 0.9519420018894759)]"
      ]
     },
     "execution_count": 31,
     "metadata": {},
     "output_type": "execute_result"
    }
   ],
   "source": [
    "recommendedRest = [(restaurant_names[i], corr_matrix[popular_rest, i]) for i in corrIndices]\n",
    "recommendedRest.sort(key=lambda x: x[1], reverse=True)\n",
    "recommendedRest.pop(0)\n",
    "recommendedRest[:10]"
   ]
  }
 ],
 "metadata": {
  "interpreter": {
   "hash": "459930712a401b3fdc8e16187022002e211063c53d40f80d6478e75ae7a84c3a"
  },
  "kernelspec": {
   "display_name": "Python 3.9.6 ('ai')",
   "language": "python",
   "name": "python3"
  },
  "language_info": {
   "codemirror_mode": {
    "name": "ipython",
    "version": 3
   },
   "file_extension": ".py",
   "mimetype": "text/x-python",
   "name": "python",
   "nbconvert_exporter": "python",
   "pygments_lexer": "ipython3",
   "version": "3.9.6"
  },
  "orig_nbformat": 4
 },
 "nbformat": 4,
 "nbformat_minor": 2
}
